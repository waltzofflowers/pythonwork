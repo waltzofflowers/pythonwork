{
 "cells": [
  {
   "cell_type": "code",
   "execution_count": 46,
   "metadata": {},
   "outputs": [
    {
     "data": {
      "text/plain": [
       "'ehllo'"
      ]
     },
     "execution_count": 46,
     "metadata": {},
     "output_type": "execute_result"
    }
   ],
   "source": [
    "def sort(s):    \n",
    "    sorted_s = sorted(s)\n",
    "    sorted_word = \"\".join(sorted_s)\n",
    "    return sorted_word\n",
    "\n",
    "s = 'hello'\n",
    "\n",
    "sort(s)"
   ]
  },
  {
   "cell_type": "code",
   "execution_count": 8,
   "metadata": {},
   "outputs": [
    {
     "name": "stdout",
     "output_type": "stream",
     "text": [
      "4\n"
     ]
    }
   ],
   "source": [
    "def k(a):\n",
    "    counts = {i: a.count(i) for i in set(a)}\n",
    "    max_count = max(counts.values())\n",
    "    most_common = [key for key, value in counts.items() if value == max_count]\n",
    "    return most_common[0], max_count\n",
    "\n",
    "a = [3, 4, 5, 6]\n",
    "\n",
    "element, count = k(a)\n",
    "\n",
    "print(element)  # Output: 3"
   ]
  },
  {
   "cell_type": "code",
   "execution_count": 6,
   "metadata": {},
   "outputs": [
    {
     "data": {
      "text/plain": [
       "122"
      ]
     },
     "execution_count": 6,
     "metadata": {},
     "output_type": "execute_result"
    }
   ],
   "source": [
    "def min(arr):\n",
    "    minn = arr[0]\n",
    "    for i in arr:\n",
    "        if i < minn:\n",
    "            minn = i\n",
    "    return minn\n",
    "\n",
    "\n",
    "arr = [123, 432, 543, 122]\n",
    "\n",
    "min(arr)"
   ]
  },
  {
   "cell_type": "code",
   "execution_count": 17,
   "metadata": {},
   "outputs": [
    {
     "name": "stdout",
     "output_type": "stream",
     "text": [
      "2\n"
     ]
    }
   ],
   "source": [
    "def occurMax(arr):\n",
    "    if not arr:\n",
    "        return None  # Return None if the array is empty\n",
    "\n",
    "    occurrence_dict = {}\n",
    "    \n",
    "    for num in arr:\n",
    "        if num in occurrence_dict:\n",
    "            occurrence_dict[num] += 1\n",
    "        else:\n",
    "            occurrence_dict[num] = 1\n",
    "\n",
    "    max_occurrences = 0\n",
    "    max_occurrence_num = None\n",
    "    \n",
    "    for num in arr:\n",
    "        if occurrence_dict[num] > max_occurrences:\n",
    "            max_occurrences = occurrence_dict[num]\n",
    "            max_occurrence_num = num\n",
    "\n",
    "    return max_occurrence_num\n",
    "\n",
    "# Example usage:\n",
    "arr = [4, 2, 1, 2, 5, 2, 1, 6, 34, 1]\n",
    "print(occurMax(arr))  # Output: 1"
   ]
  },
  {
   "cell_type": "code",
   "execution_count": 3,
   "metadata": {},
   "outputs": [
    {
     "name": "stdout",
     "output_type": "stream",
     "text": [
      "Hello, \n"
     ]
    }
   ],
   "source": [
    "def longestCommonPrefix(a):\n",
    "    first = a[0]\n",
    "    for i in a[1:]:\n",
    "        while i.find(first) != 0:\n",
    "            first = first[:-1]\n",
    "            if not first:\n",
    "                break\n",
    "    print(first)\n",
    "\n",
    "\n",
    "a = ['Hello, Bob', 'Hello, Jake']\n",
    "\n",
    "longestCommonPrefix(a)"
   ]
  },
  {
   "cell_type": "code",
   "execution_count": 5,
   "metadata": {},
   "outputs": [
    {
     "data": {
      "text/plain": [
       "'EVEN'"
      ]
     },
     "execution_count": 5,
     "metadata": {},
     "output_type": "execute_result"
    }
   ],
   "source": [
    "def evenOrOdd(a):\n",
    "    if a % 2 == 0:\n",
    "        return \"EVEN\"\n",
    "    else:\n",
    "        return \"ODD\"\n",
    "    \n",
    "a = 30\n",
    "\n",
    "evenOrOdd(a)"
   ]
  },
  {
   "cell_type": "code",
   "execution_count": 8,
   "metadata": {},
   "outputs": [
    {
     "data": {
      "text/plain": [
       "(4, 8)"
      ]
     },
     "execution_count": 8,
     "metadata": {},
     "output_type": "execute_result"
    }
   ],
   "source": [
    "def exponentials(a):\n",
    "    return a**2, a**3\n",
    "a = 2\n",
    "exponentials(a)"
   ]
  },
  {
   "cell_type": "code",
   "execution_count": 14,
   "metadata": {},
   "outputs": [
    {
     "name": "stdout",
     "output_type": "stream",
     "text": [
      "False\n"
     ]
    }
   ],
   "source": [
    "class Solution:\n",
    "    def isIsomorphic(self, s: str, t: str) -> bool:\n",
    "        s_index_count = {}\n",
    "        t_index_count = {}\n",
    "\n",
    "        for i, char1 in enumerate(s):\n",
    "\n",
    "            if char1 not in s_index_count:\n",
    "                s_index_count[char1] = []\n",
    "\n",
    "            s_index_count[char1].append(i)\n",
    "\n",
    "        for j, char2 in enumerate(t):\n",
    "\n",
    "            if char2 not in t_index_count:\n",
    "                t_index_count[char2] = []\n",
    "                \n",
    "            t_index_count[char2].append(j)\n",
    "\n",
    "        if (v1 in value for value in s_index_count.values()) == (v2 in value for value in t_index_count.values()):\n",
    "            return True\n",
    "        else:\n",
    "            return False\n",
    "\n",
    "        print(s_index_count)\n",
    "        print(t_index_count)\n",
    "\n",
    "sol = Solution()\n",
    "\n",
    "s = \"paper\"\n",
    "t = \"title\"\n",
    "\n",
    "print(sol.isIsomorphic(s, t))"
   ]
  },
  {
   "cell_type": "code",
   "execution_count": 4,
   "metadata": {},
   "outputs": [
    {
     "name": "stdout",
     "output_type": "stream",
     "text": [
      "A: True\n",
      "B: False\n",
      "C: False\n",
      "D: True\n"
     ]
    }
   ],
   "source": [
    "import numpy as np\n",
    "\n",
    "\n",
    "A = np.array([[3, 2, 1, 4],\n",
    "              [5, 2, 1, 6]])\n",
    "\n",
    "B = np.array([[3, 2, 1, 4],\n",
    "              [5, 2, 0, 6]])\n",
    "\n",
    "C = np.array([[True, False, False],\n",
    "              [True, True, True]])\n",
    "\n",
    "D = np.array([0.1, 0.3])\n",
    "\n",
    "result_A = np.all(A)\n",
    "result_B = np.all(B)\n",
    "result_C = np.all(C)\n",
    "result_D = np.all(D)\n",
    "\n",
    "print(f\"A: {result_A}\")\n",
    "print(f\"B: {result_B}\")\n",
    "print(f\"C: {result_C}\")\n",
    "print(f\"D: {result_D}\")"
   ]
  },
  {
   "cell_type": "code",
   "execution_count": 2,
   "metadata": {},
   "outputs": [
    {
     "name": "stdout",
     "output_type": "stream",
     "text": [
      "(25, 125)\n"
     ]
    }
   ],
   "source": [
    "def exponentials(a):\n",
    "    return a**2, a**3\n",
    "\n",
    "\n",
    "print(exponentials(5))"
   ]
  },
  {
   "cell_type": "code",
   "execution_count": 6,
   "metadata": {},
   "outputs": [
    {
     "name": "stdout",
     "output_type": "stream",
     "text": [
      "28\n"
     ]
    }
   ],
   "source": [
    "def days_in_month(N):\n",
    "    days = [31, 28, 31, 30, 31, 30, 31, 31, 30, 31, 30, 31]\n",
    "\n",
    "    return days[N]\n",
    "\n",
    "N = 2\n",
    "\n",
    "N = int(N)\n",
    "\n",
    "print(days_in_month(N - 1))"
   ]
  },
  {
   "cell_type": "code",
   "execution_count": 2,
   "metadata": {},
   "outputs": [
    {
     "name": "stdout",
     "output_type": "stream",
     "text": [
      "8\n"
     ]
    }
   ],
   "source": [
    "def mid_number(number):\n",
    "    return number[int(len(number) / 2)]\n",
    "\n",
    "number = \"987\"\n",
    "\n",
    "print(mid_number(number))"
   ]
  },
  {
   "cell_type": "code",
   "execution_count": 1,
   "metadata": {},
   "outputs": [
    {
     "name": "stdout",
     "output_type": "stream",
     "text": [
      "NO\n"
     ]
    }
   ],
   "source": [
    "def triangle_check(a):\n",
    "    # Split the input string by spaces and convert each part to an integer\n",
    "    sides = list(map(int, a.split()))\n",
    "    b = sides[0]\n",
    "    c = sides[1]\n",
    "    d = sides[2]\n",
    "\n",
    "    # Check the triangle inequality conditions\n",
    "    if b + c >= d and c + d >= b and b + d >= c:\n",
    "        return \"YES\"\n",
    "    else:\n",
    "        return \"NO\"\n",
    "\n",
    "# Read input from the user\n",
    "a = input()\n",
    "\n",
    "# Check if a triangle can be formed and print the result\n",
    "print(triangle_check(a))"
   ]
  },
  {
   "cell_type": "code",
   "execution_count": null,
   "metadata": {},
   "outputs": [],
   "source": []
  }
 ],
 "metadata": {
  "kernelspec": {
   "display_name": "Python 3",
   "language": "python",
   "name": "python3"
  },
  "language_info": {
   "codemirror_mode": {
    "name": "ipython",
    "version": 3
   },
   "file_extension": ".py",
   "mimetype": "text/x-python",
   "name": "python",
   "nbconvert_exporter": "python",
   "pygments_lexer": "ipython3",
   "version": "3.11.5"
  }
 },
 "nbformat": 4,
 "nbformat_minor": 2
}
