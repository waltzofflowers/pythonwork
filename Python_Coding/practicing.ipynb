{
 "cells": [
  {
   "cell_type": "markdown",
   "metadata": {},
   "source": [
    "Coddy Tech Practice"
   ]
  },
  {
   "cell_type": "code",
   "execution_count": null,
   "metadata": {},
   "outputs": [],
   "source": [
    "def max(n1, n2):\n",
    "    if n1 > n2:\n",
    "        return n1\n",
    "    else:\n",
    "        return n2\n",
    "    \n",
    "\n",
    "n1 = int(input())\n",
    "n2 = int(input())\n",
    "\n",
    "print(max(n1, n2))"
   ]
  },
  {
   "cell_type": "code",
   "execution_count": 4,
   "metadata": {},
   "outputs": [
    {
     "name": "stdout",
     "output_type": "stream",
     "text": [
      "Hello, Cihat\n"
     ]
    }
   ],
   "source": [
    "def greet(name):\n",
    "    \n",
    "    print(\"Hello, \" + name)\n",
    "\n",
    "\n",
    "name = input()\n",
    "\n",
    "greet(name)"
   ]
  },
  {
   "cell_type": "code",
   "execution_count": 18,
   "metadata": {},
   "outputs": [
    {
     "data": {
      "text/plain": [
       "21"
      ]
     },
     "execution_count": 18,
     "metadata": {},
     "output_type": "execute_result"
    }
   ],
   "source": [
    "def sum(n):\n",
    "    total = 0\n",
    "    for i in range(1, n+1):\n",
    "        total = total + i\n",
    "    return total\n",
    "\n",
    "n = int(input())\n",
    "\n",
    "sum(n)"
   ]
  },
  {
   "cell_type": "code",
   "execution_count": 19,
   "metadata": {},
   "outputs": [
    {
     "name": "stdout",
     "output_type": "stream",
     "text": [
      "cba\n"
     ]
    }
   ],
   "source": [
    "def reverse(s):\n",
    "    return s[::-1]\n",
    "\n",
    "\n",
    "s = input()\n",
    "\n",
    "print(reverse(s))"
   ]
  },
  {
   "cell_type": "code",
   "execution_count": 22,
   "metadata": {},
   "outputs": [
    {
     "name": "stdout",
     "output_type": "stream",
     "text": [
      "This Is A String\n"
     ]
    }
   ],
   "source": [
    "def capitalize(s):\n",
    "    a = s.title()\n",
    "    return a\n",
    "\n",
    "s = input()\n",
    "\n",
    "print(capitalize(s))"
   ]
  },
  {
   "cell_type": "code",
   "execution_count": 23,
   "metadata": {},
   "outputs": [
    {
     "name": "stdout",
     "output_type": "stream",
     "text": [
      "Ciat\n"
     ]
    }
   ],
   "source": [
    "def remove(s, i):\n",
    "    new_str = \"\"\n",
    "    for j in range(len(s)):\n",
    "        if j != i:\n",
    "            new_str = new_str + s[j]\n",
    "    return new_str\n",
    "\n",
    "\n",
    "s = input()\n",
    "i = int(input())\n",
    "\n",
    "print(remove(s, i))"
   ]
  },
  {
   "cell_type": "code",
   "execution_count": 27,
   "metadata": {},
   "outputs": [
    {
     "name": "stdout",
     "output_type": "stream",
     "text": [
      "cow cow cow\n"
     ]
    }
   ],
   "source": [
    "def mulWord(s, n):\n",
    "    result = (s + \" \") * n\n",
    "    return result[:-1]\n",
    "\n",
    "s = input()\n",
    "n = int(input())\n",
    "\n",
    "print(mulWord(s, n))"
   ]
  },
  {
   "cell_type": "code",
   "execution_count": 34,
   "metadata": {},
   "outputs": [
    {
     "name": "stdout",
     "output_type": "stream",
     "text": [
      "0\n"
     ]
    }
   ],
   "source": [
    "def fibo(n):\n",
    "    if n <= 1:\n",
    "        return n\n",
    "    else:\n",
    "        return (fibo(n - 1) + fibo(n - 2))\n",
    "\n",
    "\n",
    "n = int(input())\n",
    "\n",
    "print(fibo(n))"
   ]
  },
  {
   "cell_type": "code",
   "execution_count": 36,
   "metadata": {},
   "outputs": [
    {
     "name": "stdout",
     "output_type": "stream",
     "text": [
      "True\n"
     ]
    }
   ],
   "source": [
    "def isPrime(num):\n",
    "    prime_list = [2, 3]\n",
    "    for i in range(4, num + 1):\n",
    "        is_prime = True\n",
    "        for j in prime_list:\n",
    "            if i % j == 0:\n",
    "                is_prime = False\n",
    "                break\n",
    "        if is_prime:\n",
    "            prime_list.append(i)\n",
    "\n",
    "    if num in prime_list:\n",
    "        return True\n",
    "    else:\n",
    "        return False\n",
    "\n",
    "num = int(input())\n",
    "\n",
    "print(isPrime(num))"
   ]
  },
  {
   "cell_type": "code",
   "execution_count": 43,
   "metadata": {},
   "outputs": [
    {
     "name": "stdout",
     "output_type": "stream",
     "text": [
      "120\n"
     ]
    }
   ],
   "source": [
    "def fact(num):\n",
    "    if num > 1:\n",
    "        return num * fact(num - 1)\n",
    "    else:\n",
    "        return 1\n",
    "\n",
    "num = int(input())\n",
    "\n",
    "print(fact(num))"
   ]
  },
  {
   "cell_type": "code",
   "execution_count": 46,
   "metadata": {},
   "outputs": [
    {
     "name": "stdout",
     "output_type": "stream",
     "text": [
      "True\n"
     ]
    }
   ],
   "source": [
    "def isPalindrome(num):\n",
    "    num_str = str(num)\n",
    "    if num_str == num_str[::-1]:\n",
    "        return True\n",
    "    else:\n",
    "        return False\n",
    "\n",
    "num = input()\n",
    "\n",
    "print(isPalindrome(num))"
   ]
  },
  {
   "cell_type": "code",
   "execution_count": 47,
   "metadata": {},
   "outputs": [
    {
     "name": "stdout",
     "output_type": "stream",
     "text": [
      "122\n"
     ]
    }
   ],
   "source": [
    "def min(arr):\n",
    "    minn = arr[0]\n",
    "    for i in arr:\n",
    "        if i < minn:\n",
    "            minn = i\n",
    "    return minn\n",
    "\n",
    "\n",
    "arr = [123, 432, 543, 122]\n",
    "\n",
    "print(min(arr))"
   ]
  },
  {
   "cell_type": "code",
   "execution_count": 48,
   "metadata": {},
   "outputs": [
    {
     "name": "stdout",
     "output_type": "stream",
     "text": [
      "[5, 6, 6]\n"
     ]
    }
   ],
   "source": [
    "def lens(arr):\n",
    "    lenn = []\n",
    "    for i in arr:\n",
    "        lenn.append(len(i))\n",
    "\n",
    "    return lenn\n",
    "\n",
    "\n",
    "arr = [\"apple\", \"banana\", \"cherry\"]\n",
    "\n",
    "print(lens(arr))"
   ]
  },
  {
   "cell_type": "code",
   "execution_count": 54,
   "metadata": {},
   "outputs": [
    {
     "name": "stdout",
     "output_type": "stream",
     "text": [
      "[1, 4, 2, 5, 3, 6]\n"
     ]
    }
   ],
   "source": [
    "def alternate(a1, a2):\n",
    "    listt = []\n",
    "    for i in range(len(a1)):\n",
    "        listt.append(a1[i])\n",
    "        listt.append(a2[i])\n",
    "    return listt\n",
    "\n",
    "print(alternate(a1, a2))"
   ]
  },
  {
   "cell_type": "code",
   "execution_count": 3,
   "metadata": {},
   "outputs": [
    {
     "name": "stdout",
     "output_type": "stream",
     "text": [
      "[5, 1, 2, 3, 4]\n"
     ]
    }
   ],
   "source": [
    "def rotate(arr):\n",
    "    arr1 = arr[:-1]\n",
    "    len_arr = len(arr)\n",
    "    arr1.insert(0, arr[len_arr - 1])\n",
    "    return arr1\n",
    "\n",
    "arr = [1, 2, 3, 4, 5]\n",
    "\n",
    "print(rotate(arr))"
   ]
  },
  {
   "cell_type": "code",
   "execution_count": 5,
   "metadata": {},
   "outputs": [
    {
     "name": "stdout",
     "output_type": "stream",
     "text": [
      "None\n"
     ]
    }
   ],
   "source": [
    "arr = [1, 2, 3, 4, 5]\n",
    "\n",
    "def rotate(arr):\n",
    "    return (arr[:-1].insert(0, arr[len(arr) - 1]))\n",
    "\n",
    "print(rotate(arr))"
   ]
  },
  {
   "cell_type": "code",
   "execution_count": 3,
   "metadata": {},
   "outputs": [
    {
     "name": "stdout",
     "output_type": "stream",
     "text": [
      "[1, 2, 3]\n"
     ]
    }
   ],
   "source": [
    "def convert(n):\n",
    "    str_n = str(n)\n",
    "    listt = []\n",
    "    for i in str_n:\n",
    "        listt.append(int(i))\n",
    "        \n",
    "    return listt\n",
    "\n",
    "n = 123\n",
    "\n",
    "print(convert(n))"
   ]
  },
  {
   "cell_type": "code",
   "execution_count": 8,
   "metadata": {},
   "outputs": [
    {
     "name": "stdout",
     "output_type": "stream",
     "text": [
      "ehllo\n"
     ]
    }
   ],
   "source": [
    "def sorting(s):\n",
    "    ss = \"\"\n",
    "    sorted_s = sorted(s)\n",
    "    for i in sorted_s:\n",
    "        ss = ss + i\n",
    "    return ss\n",
    "\n",
    "s = 'hello'\n",
    "\n",
    "print(sorting(s))"
   ]
  },
  {
   "cell_type": "code",
   "execution_count": 10,
   "metadata": {},
   "outputs": [
    {
     "name": "stdout",
     "output_type": "stream",
     "text": [
      "2\n"
     ]
    }
   ],
   "source": [
    "def occurMax(a):\n",
    "    for i in a:\n",
    "        if a.count(i) == max(a.count(i) for i in a):\n",
    "            return i\n",
    "\n",
    "a = [4, 2, 1, 2, 5, 2, 1, 6, 34, 1]\n",
    "\n",
    "print(occurMax(a))"
   ]
  },
  {
   "cell_type": "code",
   "execution_count": 8,
   "metadata": {},
   "outputs": [
    {
     "name": "stdout",
     "output_type": "stream",
     "text": [
      "oellh\n"
     ]
    }
   ],
   "source": [
    "def swap_characters(input_string):\n",
    "    if len(input_string) < 2:\n",
    "        return input_string\n",
    "    first = input_string[0]\n",
    "    last = input_string[-1]\n",
    "    middle = input_string[1:-1]\n",
    "    return last + middle + first\n",
    "\n",
    "input_string = \"hello\"\n",
    "\n",
    "print(swap_characters(input_string))"
   ]
  },
  {
   "cell_type": "code",
   "execution_count": 11,
   "metadata": {},
   "outputs": [
    {
     "name": "stdout",
     "output_type": "stream",
     "text": [
      "True\n"
     ]
    }
   ],
   "source": [
    "def animal_match(animal_name: str, guess: str):\n",
    "    if guess == animal_name:\n",
    "        return True\n",
    "    else:\n",
    "        return False\n",
    "\n",
    "animal_name = \"Cat\"\n",
    "guess = \"Cat\"\n",
    "\n",
    "print(animal_match(animal_name, guess))"
   ]
  },
  {
   "cell_type": "code",
   "execution_count": 12,
   "metadata": {},
   "outputs": [
    {
     "name": "stdout",
     "output_type": "stream",
     "text": [
      "20\n"
     ]
    }
   ],
   "source": [
    "def calculate(number_1, number_2, operator):\n",
    "    if operator == '+':\n",
    "        return number_1 + number_2\n",
    "    if operator == '-':\n",
    "        return number_1 - number_2\n",
    "    if operator == '*':\n",
    "        return number_1 * number_2\n",
    "    if operator == '/':\n",
    "        return number_1 / number_2\n",
    "\n",
    "number_1 = 10\n",
    "number_2 = 2\n",
    "operator = '*'\n",
    "\n",
    "print(calculate(number_1, number_2, operator))"
   ]
  },
  {
   "cell_type": "code",
   "execution_count": 20,
   "metadata": {},
   "outputs": [
    {
     "name": "stdout",
     "output_type": "stream",
     "text": [
      "{'ascents': 4, 'descents': 0}\n"
     ]
    }
   ],
   "source": [
    "def track_hike_progress(altitude_list):\n",
    "    ascent = 0\n",
    "    descent = 0\n",
    "    for i in range(len(altitude_list) - 1):\n",
    "        if altitude_list[i + 1] > altitude_list[i]:\n",
    "            ascent = ascent + 1\n",
    "        elif altitude_list[i + 1] < altitude_list[i]:\n",
    "            descent = descent + 1\n",
    "\n",
    "    return {'ascents': ascent, 'descents': descent}\n",
    "\n",
    "altitude_list = [100, 200, 300, 400, 500]\n",
    "\n",
    "print(track_hike_progress(altitude_list))"
   ]
  },
  {
   "cell_type": "code",
   "execution_count": 24,
   "metadata": {},
   "outputs": [
    {
     "name": "stdout",
     "output_type": "stream",
     "text": [
      "la\n"
     ]
    }
   ],
   "source": [
    "def note_name(note):\n",
    "    dictt = {1: 'do', 2: 're', 3: 'mi', 4: 'fal', 5: 'sol', 6: 'la', 7: 'si'}\n",
    "\n",
    "    return dictt[note]\n",
    "\n",
    "note = 6\n",
    "\n",
    "print(note_name(note))"
   ]
  },
  {
   "cell_type": "code",
   "execution_count": 25,
   "metadata": {},
   "outputs": [
    {
     "name": "stdout",
     "output_type": "stream",
     "text": [
      "johnmonday\n"
     ]
    }
   ],
   "source": [
    "def generate_login_string(username, day_of_week):\n",
    "    return username + day_of_week\n",
    "\n",
    "username = 'john'\n",
    "day_of_week = 'monday'\n",
    "\n",
    "print(generate_login_string(username, day_of_week))"
   ]
  },
  {
   "cell_type": "code",
   "execution_count": 27,
   "metadata": {},
   "outputs": [
    {
     "name": "stdout",
     "output_type": "stream",
     "text": [
      "62.137100000000004\n"
     ]
    }
   ],
   "source": [
    "def km_to_miles(km):\n",
    "    mile = km * 0.621371\n",
    "    return mile\n",
    "\n",
    "km = 100\n",
    "\n",
    "print(km_to_miles(km))"
   ]
  },
  {
   "cell_type": "code",
   "execution_count": 28,
   "metadata": {},
   "outputs": [
    {
     "name": "stdout",
     "output_type": "stream",
     "text": [
      "olleh\n"
     ]
    }
   ],
   "source": [
    "def reverse_string(s):\n",
    "    return s[::-1]\n",
    "\n",
    "s = 'hello'\n",
    "\n",
    "print(reverse_string(s))"
   ]
  },
  {
   "cell_type": "code",
   "execution_count": 49,
   "metadata": {},
   "outputs": [
    {
     "name": "stdout",
     "output_type": "stream",
     "text": [
      "5\n"
     ]
    }
   ],
   "source": [
    "#look back that is kinda tricky\n",
    "\n",
    "def longest_consecutive_sequence(nums):\n",
    "    unique_list = []\n",
    "    count = 1\n",
    "    for i in nums:\n",
    "        if i not in unique_list:\n",
    "            unique_list.append(i)\n",
    "        \n",
    "    unique_list_sorted = sorted(unique_list)\n",
    "    for j in range(len(unique_list_sorted)):                                 ###########################################################################\n",
    "        if unique_list_sorted[j] - 1 == unique_list_sorted[j - 1]:\n",
    "            count += 1\n",
    "    return count\n",
    "\n",
    "nums = [-3, -1, 0, 1, 2, 4, 5]\n",
    "\n",
    "print(longest_consecutive_sequence(nums))\n"
   ]
  },
  {
   "cell_type": "code",
   "execution_count": 5,
   "metadata": {},
   "outputs": [
    {
     "name": "stdout",
     "output_type": "stream",
     "text": [
      "[[83, 52, 21]]\n"
     ]
    }
   ],
   "source": [
    "def summerBookSorter(chapters):\n",
    "    for i in chapters:\n",
    "        return [i[::-1]]\n",
    "\n",
    "\n",
    "\n",
    "chapters = [[21, 52, 83]]\n",
    "\n",
    "print(summerBookSorter(chapters))"
   ]
  },
  {
   "cell_type": "code",
   "execution_count": null,
   "metadata": {},
   "outputs": [],
   "source": [
    "chapters = [[21, 52, 83]]\n",
    "\n",
    "for i in chapters:\n",
    "    print(i[::-1])"
   ]
  },
  {
   "cell_type": "code",
   "execution_count": 7,
   "metadata": {},
   "outputs": [
    {
     "name": "stdout",
     "output_type": "stream",
     "text": [
      "Welcome to the Eld World!\n"
     ]
    }
   ],
   "source": [
    "eld = \"Welcome to the Eld World\"\n",
    "\n",
    "print(eld + \"!\")"
   ]
  },
  {
   "cell_type": "code",
   "execution_count": 13,
   "metadata": {},
   "outputs": [
    {
     "name": "stdout",
     "output_type": "stream",
     "text": [
      "10\n"
     ]
    }
   ],
   "source": [
    "def count_vowels(s):\n",
    "    vowel = ['a', 'e', 'i', 'o', 'u']\n",
    "    count = 0\n",
    "    s_lower = s.lower()\n",
    "    for i in s_lower:\n",
    "        if i in vowel:\n",
    "            count = count + 1\n",
    "    return count\n",
    "\n",
    "s = \"AEIOUaeiou\"\n",
    "\n",
    "print(count_vowels(s))"
   ]
  },
  {
   "cell_type": "code",
   "execution_count": 20,
   "metadata": {},
   "outputs": [
    {
     "name": "stdout",
     "output_type": "stream",
     "text": [
      "87.8\n"
     ]
    }
   ],
   "source": [
    "def celsius_to_fahrenheit(celsius):\n",
    "    F = celsius * 9/5 + 32\n",
    "    return F\n",
    "\n",
    "celsius = 31\n",
    "\n",
    "print(celsius_to_fahrenheit(celsius))"
   ]
  },
  {
   "cell_type": "code",
   "execution_count": null,
   "metadata": {},
   "outputs": [],
   "source": []
  }
 ],
 "metadata": {
  "kernelspec": {
   "display_name": "Python 3",
   "language": "python",
   "name": "python3"
  },
  "language_info": {
   "codemirror_mode": {
    "name": "ipython",
    "version": 3
   },
   "file_extension": ".py",
   "mimetype": "text/x-python",
   "name": "python",
   "nbconvert_exporter": "python",
   "pygments_lexer": "ipython3",
   "version": "3.11.5"
  }
 },
 "nbformat": 4,
 "nbformat_minor": 2
}
