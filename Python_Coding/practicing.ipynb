{
 "cells": [
  {
   "cell_type": "markdown",
   "metadata": {},
   "source": [
    "Coddy Tech Practice"
   ]
  },
  {
   "cell_type": "code",
   "execution_count": null,
   "metadata": {},
   "outputs": [],
   "source": [
    "def max(n1, n2):\n",
    "    if n1 > n2:\n",
    "        return n1\n",
    "    else:\n",
    "        return n2\n",
    "    \n",
    "\n",
    "n1 = int(input())\n",
    "n2 = int(input())\n",
    "\n",
    "print(max(n1, n2))"
   ]
  },
  {
   "cell_type": "code",
   "execution_count": 4,
   "metadata": {},
   "outputs": [
    {
     "name": "stdout",
     "output_type": "stream",
     "text": [
      "Hello, Cihat\n"
     ]
    }
   ],
   "source": [
    "def greet(name):\n",
    "    \n",
    "    print(\"Hello, \" + name)\n",
    "\n",
    "\n",
    "name = input()\n",
    "\n",
    "greet(name)"
   ]
  },
  {
   "cell_type": "code",
   "execution_count": 18,
   "metadata": {},
   "outputs": [
    {
     "data": {
      "text/plain": [
       "21"
      ]
     },
     "execution_count": 18,
     "metadata": {},
     "output_type": "execute_result"
    }
   ],
   "source": [
    "def sum(n):\n",
    "    total = 0\n",
    "    for i in range(1, n+1):\n",
    "        total = total + i\n",
    "    return total\n",
    "\n",
    "n = int(input())\n",
    "\n",
    "sum(n)"
   ]
  },
  {
   "cell_type": "code",
   "execution_count": 19,
   "metadata": {},
   "outputs": [
    {
     "name": "stdout",
     "output_type": "stream",
     "text": [
      "cba\n"
     ]
    }
   ],
   "source": [
    "def reverse(s):\n",
    "    return s[::-1]\n",
    "\n",
    "\n",
    "s = input()\n",
    "\n",
    "print(reverse(s))"
   ]
  },
  {
   "cell_type": "code",
   "execution_count": 22,
   "metadata": {},
   "outputs": [
    {
     "name": "stdout",
     "output_type": "stream",
     "text": [
      "This Is A String\n"
     ]
    }
   ],
   "source": [
    "def capitalize(s):\n",
    "    a = s.title()\n",
    "    return a\n",
    "\n",
    "s = input()\n",
    "\n",
    "print(capitalize(s))"
   ]
  },
  {
   "cell_type": "code",
   "execution_count": 23,
   "metadata": {},
   "outputs": [
    {
     "name": "stdout",
     "output_type": "stream",
     "text": [
      "Ciat\n"
     ]
    }
   ],
   "source": [
    "def remove(s, i):\n",
    "    new_str = \"\"\n",
    "    for j in range(len(s)):\n",
    "        if j != i:\n",
    "            new_str = new_str + s[j]\n",
    "    return new_str\n",
    "\n",
    "\n",
    "s = input()\n",
    "i = int(input())\n",
    "\n",
    "print(remove(s, i))"
   ]
  },
  {
   "cell_type": "code",
   "execution_count": 27,
   "metadata": {},
   "outputs": [
    {
     "name": "stdout",
     "output_type": "stream",
     "text": [
      "cow cow cow\n"
     ]
    }
   ],
   "source": [
    "def mulWord(s, n):\n",
    "    result = (s + \" \") * n\n",
    "    return result[:-1]\n",
    "\n",
    "s = input()\n",
    "n = int(input())\n",
    "\n",
    "print(mulWord(s, n))"
   ]
  },
  {
   "cell_type": "code",
   "execution_count": 34,
   "metadata": {},
   "outputs": [
    {
     "name": "stdout",
     "output_type": "stream",
     "text": [
      "0\n"
     ]
    }
   ],
   "source": [
    "def fibo(n):\n",
    "    if n <= 1:\n",
    "        return n\n",
    "    else:\n",
    "        return (fibo(n - 1) + fibo(n - 2))\n",
    "\n",
    "\n",
    "n = int(input())\n",
    "\n",
    "print(fibo(n))"
   ]
  },
  {
   "cell_type": "code",
   "execution_count": 36,
   "metadata": {},
   "outputs": [
    {
     "name": "stdout",
     "output_type": "stream",
     "text": [
      "True\n"
     ]
    }
   ],
   "source": [
    "def isPrime(num):\n",
    "    prime_list = [2, 3]\n",
    "    for i in range(4, num + 1):\n",
    "        is_prime = True\n",
    "        for j in prime_list:\n",
    "            if i % j == 0:\n",
    "                is_prime = False\n",
    "                break\n",
    "        if is_prime:\n",
    "            prime_list.append(i)\n",
    "\n",
    "    if num in prime_list:\n",
    "        return True\n",
    "    else:\n",
    "        return False\n",
    "\n",
    "num = int(input())\n",
    "\n",
    "print(isPrime(num))"
   ]
  },
  {
   "cell_type": "code",
   "execution_count": 43,
   "metadata": {},
   "outputs": [
    {
     "name": "stdout",
     "output_type": "stream",
     "text": [
      "120\n"
     ]
    }
   ],
   "source": [
    "def fact(num):\n",
    "    if num > 1:\n",
    "        return num * fact(num - 1)\n",
    "    else:\n",
    "        return 1\n",
    "\n",
    "num = int(input())\n",
    "\n",
    "print(fact(num))"
   ]
  },
  {
   "cell_type": "code",
   "execution_count": 46,
   "metadata": {},
   "outputs": [
    {
     "name": "stdout",
     "output_type": "stream",
     "text": [
      "True\n"
     ]
    }
   ],
   "source": [
    "def isPalindrome(num):\n",
    "    num_str = str(num)\n",
    "    if num_str == num_str[::-1]:\n",
    "        return True\n",
    "    else:\n",
    "        return False\n",
    "\n",
    "num = input()\n",
    "\n",
    "print(isPalindrome(num))"
   ]
  },
  {
   "cell_type": "code",
   "execution_count": 47,
   "metadata": {},
   "outputs": [
    {
     "name": "stdout",
     "output_type": "stream",
     "text": [
      "122\n"
     ]
    }
   ],
   "source": [
    "def min(arr):\n",
    "    minn = arr[0]\n",
    "    for i in arr:\n",
    "        if i < minn:\n",
    "            minn = i\n",
    "    return minn\n",
    "\n",
    "\n",
    "arr = [123, 432, 543, 122]\n",
    "\n",
    "print(min(arr))"
   ]
  },
  {
   "cell_type": "code",
   "execution_count": 48,
   "metadata": {},
   "outputs": [
    {
     "name": "stdout",
     "output_type": "stream",
     "text": [
      "[5, 6, 6]\n"
     ]
    }
   ],
   "source": [
    "def lens(arr):\n",
    "    lenn = []\n",
    "    for i in arr:\n",
    "        lenn.append(len(i))\n",
    "\n",
    "    return lenn\n",
    "\n",
    "\n",
    "arr = [\"apple\", \"banana\", \"cherry\"]\n",
    "\n",
    "print(lens(arr))"
   ]
  },
  {
   "cell_type": "code",
   "execution_count": 54,
   "metadata": {},
   "outputs": [
    {
     "name": "stdout",
     "output_type": "stream",
     "text": [
      "[1, 4, 2, 5, 3, 6]\n"
     ]
    }
   ],
   "source": [
    "def alternate(a1, a2):\n",
    "    listt = []\n",
    "    for i in range(len(a1)):\n",
    "        listt.append(a1[i])\n",
    "        listt.append(a2[i])\n",
    "    return listt\n",
    "\n",
    "print(alternate(a1, a2))"
   ]
  },
  {
   "cell_type": "code",
   "execution_count": 3,
   "metadata": {},
   "outputs": [
    {
     "name": "stdout",
     "output_type": "stream",
     "text": [
      "[5, 1, 2, 3, 4]\n"
     ]
    }
   ],
   "source": [
    "def rotate(arr):\n",
    "    arr1 = arr[:-1]\n",
    "    len_arr = len(arr)\n",
    "    arr1.insert(0, arr[len_arr - 1])\n",
    "    return arr1\n",
    "\n",
    "arr = [1, 2, 3, 4, 5]\n",
    "\n",
    "print(rotate(arr))"
   ]
  },
  {
   "cell_type": "code",
   "execution_count": 5,
   "metadata": {},
   "outputs": [
    {
     "name": "stdout",
     "output_type": "stream",
     "text": [
      "None\n"
     ]
    }
   ],
   "source": [
    "arr = [1, 2, 3, 4, 5]\n",
    "\n",
    "def rotate(arr):\n",
    "    return (arr[:-1].insert(0, arr[len(arr) - 1]))\n",
    "\n",
    "print(rotate(arr))"
   ]
  },
  {
   "cell_type": "code",
   "execution_count": 3,
   "metadata": {},
   "outputs": [
    {
     "name": "stdout",
     "output_type": "stream",
     "text": [
      "[1, 2, 3]\n"
     ]
    }
   ],
   "source": [
    "def convert(n):\n",
    "    str_n = str(n)\n",
    "    listt = []\n",
    "    for i in str_n:\n",
    "        listt.append(int(i))\n",
    "        \n",
    "    return listt\n",
    "\n",
    "n = 123\n",
    "\n",
    "print(convert(n))"
   ]
  },
  {
   "cell_type": "code",
   "execution_count": 8,
   "metadata": {},
   "outputs": [
    {
     "name": "stdout",
     "output_type": "stream",
     "text": [
      "ehllo\n"
     ]
    }
   ],
   "source": [
    "def sorting(s):\n",
    "    ss = \"\"\n",
    "    sorted_s = sorted(s)\n",
    "    for i in sorted_s:\n",
    "        ss = ss + i\n",
    "    return ss\n",
    "\n",
    "s = 'hello'\n",
    "\n",
    "print(sorting(s))"
   ]
  },
  {
   "cell_type": "code",
   "execution_count": 10,
   "metadata": {},
   "outputs": [
    {
     "name": "stdout",
     "output_type": "stream",
     "text": [
      "2\n"
     ]
    }
   ],
   "source": [
    "def occurMax(a):\n",
    "    for i in a:\n",
    "        if a.count(i) == max(a.count(i) for i in a):\n",
    "            return i\n",
    "\n",
    "a = [4, 2, 1, 2, 5, 2, 1, 6, 34, 1]\n",
    "\n",
    "print(occurMax(a))"
   ]
  },
  {
   "cell_type": "code",
   "execution_count": 8,
   "metadata": {},
   "outputs": [
    {
     "name": "stdout",
     "output_type": "stream",
     "text": [
      "oellh\n"
     ]
    }
   ],
   "source": [
    "def swap_characters(input_string):\n",
    "    if len(input_string) < 2:\n",
    "        return input_string\n",
    "    first = input_string[0]\n",
    "    last = input_string[-1]\n",
    "    middle = input_string[1:-1]\n",
    "    return last + middle + first\n",
    "\n",
    "input_string = \"hello\"\n",
    "\n",
    "print(swap_characters(input_string))"
   ]
  },
  {
   "cell_type": "code",
   "execution_count": 11,
   "metadata": {},
   "outputs": [
    {
     "name": "stdout",
     "output_type": "stream",
     "text": [
      "True\n"
     ]
    }
   ],
   "source": [
    "def animal_match(animal_name: str, guess: str):\n",
    "    if guess == animal_name:\n",
    "        return True\n",
    "    else:\n",
    "        return False\n",
    "\n",
    "animal_name = \"Cat\"\n",
    "guess = \"Cat\"\n",
    "\n",
    "print(animal_match(animal_name, guess))"
   ]
  },
  {
   "cell_type": "code",
   "execution_count": 12,
   "metadata": {},
   "outputs": [
    {
     "name": "stdout",
     "output_type": "stream",
     "text": [
      "20\n"
     ]
    }
   ],
   "source": [
    "def calculate(number_1, number_2, operator):\n",
    "    if operator == '+':\n",
    "        return number_1 + number_2\n",
    "    if operator == '-':\n",
    "        return number_1 - number_2\n",
    "    if operator == '*':\n",
    "        return number_1 * number_2\n",
    "    if operator == '/':\n",
    "        return number_1 / number_2\n",
    "\n",
    "number_1 = 10\n",
    "number_2 = 2\n",
    "operator = '*'\n",
    "\n",
    "print(calculate(number_1, number_2, operator))"
   ]
  },
  {
   "cell_type": "code",
   "execution_count": 20,
   "metadata": {},
   "outputs": [
    {
     "name": "stdout",
     "output_type": "stream",
     "text": [
      "{'ascents': 4, 'descents': 0}\n"
     ]
    }
   ],
   "source": [
    "def track_hike_progress(altitude_list):\n",
    "    ascent = 0\n",
    "    descent = 0\n",
    "    for i in range(len(altitude_list) - 1):\n",
    "        if altitude_list[i + 1] > altitude_list[i]:\n",
    "            ascent = ascent + 1\n",
    "        elif altitude_list[i + 1] < altitude_list[i]:\n",
    "            descent = descent + 1\n",
    "\n",
    "    return {'ascents': ascent, 'descents': descent}\n",
    "\n",
    "altitude_list = [100, 200, 300, 400, 500]\n",
    "\n",
    "print(track_hike_progress(altitude_list))"
   ]
  },
  {
   "cell_type": "code",
   "execution_count": 24,
   "metadata": {},
   "outputs": [
    {
     "name": "stdout",
     "output_type": "stream",
     "text": [
      "la\n"
     ]
    }
   ],
   "source": [
    "def note_name(note):\n",
    "    dictt = {1: 'do', 2: 're', 3: 'mi', 4: 'fal', 5: 'sol', 6: 'la', 7: 'si'}\n",
    "\n",
    "    return dictt[note]\n",
    "\n",
    "note = 6\n",
    "\n",
    "print(note_name(note))"
   ]
  },
  {
   "cell_type": "code",
   "execution_count": 25,
   "metadata": {},
   "outputs": [
    {
     "name": "stdout",
     "output_type": "stream",
     "text": [
      "johnmonday\n"
     ]
    }
   ],
   "source": [
    "def generate_login_string(username, day_of_week):\n",
    "    return username + day_of_week\n",
    "\n",
    "username = 'john'\n",
    "day_of_week = 'monday'\n",
    "\n",
    "print(generate_login_string(username, day_of_week))"
   ]
  },
  {
   "cell_type": "code",
   "execution_count": 27,
   "metadata": {},
   "outputs": [
    {
     "name": "stdout",
     "output_type": "stream",
     "text": [
      "62.137100000000004\n"
     ]
    }
   ],
   "source": [
    "def km_to_miles(km):\n",
    "    mile = km * 0.621371\n",
    "    return mile\n",
    "\n",
    "km = 100\n",
    "\n",
    "print(km_to_miles(km))"
   ]
  },
  {
   "cell_type": "code",
   "execution_count": 28,
   "metadata": {},
   "outputs": [
    {
     "name": "stdout",
     "output_type": "stream",
     "text": [
      "olleh\n"
     ]
    }
   ],
   "source": [
    "def reverse_string(s):\n",
    "    return s[::-1]\n",
    "\n",
    "s = 'hello'\n",
    "\n",
    "print(reverse_string(s))"
   ]
  },
  {
   "cell_type": "code",
   "execution_count": 49,
   "metadata": {},
   "outputs": [
    {
     "name": "stdout",
     "output_type": "stream",
     "text": [
      "5\n"
     ]
    }
   ],
   "source": [
    "#look back that is kinda tricky\n",
    "\n",
    "def longest_consecutive_sequence(nums):\n",
    "    unique_list = []\n",
    "    count = 1\n",
    "    for i in nums:\n",
    "        if i not in unique_list:\n",
    "            unique_list.append(i)\n",
    "        \n",
    "    unique_list_sorted = sorted(unique_list)\n",
    "    for j in range(len(unique_list_sorted)):                                 ###########################################################################\n",
    "        if unique_list_sorted[j] - 1 == unique_list_sorted[j - 1]:\n",
    "            count += 1\n",
    "    return count\n",
    "\n",
    "nums = [-3, -1, 0, 1, 2, 4, 5]\n",
    "\n",
    "print(longest_consecutive_sequence(nums))\n"
   ]
  },
  {
   "cell_type": "code",
   "execution_count": 5,
   "metadata": {},
   "outputs": [
    {
     "name": "stdout",
     "output_type": "stream",
     "text": [
      "[[83, 52, 21]]\n"
     ]
    }
   ],
   "source": [
    "def summerBookSorter(chapters):\n",
    "    for i in chapters:\n",
    "        return [i[::-1]]\n",
    "\n",
    "\n",
    "\n",
    "chapters = [[21, 52, 83]]\n",
    "\n",
    "print(summerBookSorter(chapters))"
   ]
  },
  {
   "cell_type": "code",
   "execution_count": null,
   "metadata": {},
   "outputs": [],
   "source": [
    "chapters = [[21, 52, 83]]\n",
    "\n",
    "for i in chapters:\n",
    "    print(i[::-1])"
   ]
  },
  {
   "cell_type": "code",
   "execution_count": 7,
   "metadata": {},
   "outputs": [
    {
     "name": "stdout",
     "output_type": "stream",
     "text": [
      "Welcome to the Eld World!\n"
     ]
    }
   ],
   "source": [
    "eld = \"Welcome to the Eld World\"\n",
    "\n",
    "print(eld + \"!\")"
   ]
  },
  {
   "cell_type": "code",
   "execution_count": 13,
   "metadata": {},
   "outputs": [
    {
     "name": "stdout",
     "output_type": "stream",
     "text": [
      "10\n"
     ]
    }
   ],
   "source": [
    "def count_vowels(s):\n",
    "    vowel = ['a', 'e', 'i', 'o', 'u']\n",
    "    count = 0\n",
    "    s_lower = s.lower()\n",
    "    for i in s_lower:\n",
    "        if i in vowel:\n",
    "            count = count + 1\n",
    "    return count\n",
    "\n",
    "s = \"AEIOUaeiou\"\n",
    "\n",
    "print(count_vowels(s))"
   ]
  },
  {
   "cell_type": "code",
   "execution_count": 20,
   "metadata": {},
   "outputs": [
    {
     "name": "stdout",
     "output_type": "stream",
     "text": [
      "87.8\n"
     ]
    }
   ],
   "source": [
    "#Not done weird conversion required\n",
    "\n",
    "def celsius_to_fahrenheit(celsius):\n",
    "    F = celsius * 9/5 + 32\n",
    "    return F\n",
    "\n",
    "celsius = 31\n",
    "\n",
    "print(celsius_to_fahrenheit(celsius))"
   ]
  },
  {
   "cell_type": "code",
   "execution_count": 4,
   "metadata": {},
   "outputs": [
    {
     "name": "stdout",
     "output_type": "stream",
     "text": [
      "1048.576\n"
     ]
    }
   ],
   "source": [
    "def calc_thickness(n):\n",
    "    initial_thickness = 0.0005\n",
    "    thickness = pow(2, n) * initial_thickness\n",
    "    return thickness\n",
    "\n",
    "n = 21\n",
    "\n",
    "print(calc_thickness(n))\n"
   ]
  },
  {
   "cell_type": "code",
   "execution_count": 22,
   "metadata": {},
   "outputs": [
    {
     "name": "stdout",
     "output_type": "stream",
     "text": [
      "['*', '***', '*****', '*******']\n"
     ]
    }
   ],
   "source": [
    "#later\n",
    "\n",
    "def beach_tower(levels):\n",
    "    str_arr = []\n",
    "    if levels > 1:\n",
    "        for i in range(1,levels + 1, 2):\n",
    "            str_arr.append(i * '*')\n",
    "    if levels == 1:\n",
    "        str_arr.append('*')\n",
    "        return str_arr\n",
    "    \n",
    "    return str_arr\n",
    "\n",
    "\n",
    "levels = 7\n",
    "\n",
    "print(beach_tower(levels))"
   ]
  },
  {
   "cell_type": "code",
   "execution_count": 24,
   "metadata": {},
   "outputs": [
    {
     "name": "stdout",
     "output_type": "stream",
     "text": [
      "440\n"
     ]
    }
   ],
   "source": [
    "def get_total_distance(laps):\n",
    "    total = 400 * laps + 40\n",
    "    if laps >= 1:\n",
    "        return total\n",
    "    elif laps == 0:\n",
    "        return 0\n",
    "\n",
    "laps = 1\n",
    "\n",
    "print(get_total_distance(laps))"
   ]
  },
  {
   "cell_type": "code",
   "execution_count": 26,
   "metadata": {},
   "outputs": [
    {
     "name": "stdout",
     "output_type": "stream",
     "text": [
      "3\n"
     ]
    }
   ],
   "source": [
    "def gcd(x, y):\n",
    "    if x > y:\n",
    "        smaller = y\n",
    "    else:\n",
    "        smaller = x\n",
    "    for i in range(1, smaller + 1):\n",
    "        if ((x % i == 0) and (y % i == 0)):\n",
    "            gcd = i\n",
    "\n",
    "    return gcd\n",
    "\n",
    "x = 999999999\n",
    "y = 45678\n",
    "\n",
    "print(gcd(x, y))"
   ]
  },
  {
   "cell_type": "code",
   "execution_count": 8,
   "metadata": {},
   "outputs": [
    {
     "name": "stdout",
     "output_type": "stream",
     "text": [
      "True\n"
     ]
    }
   ],
   "source": [
    "# if letter contained in every word than yes version\n",
    "def is_forbidden_letter1(letter1, list_words1):\n",
    "    letter_lower1 = letter1.lower()\n",
    "    result1 = all(letter_lower1 in word for word in list_words1)\n",
    "\n",
    "    return result1\n",
    "\n",
    "list_words1 = ['apple', 'banane', 'pear']\n",
    "\n",
    "letter1 = 'e'\n",
    "\n",
    "print(is_forbidden_letter1(letter1, list_words1))"
   ]
  },
  {
   "cell_type": "code",
   "execution_count": 11,
   "metadata": {},
   "outputs": [
    {
     "name": "stdout",
     "output_type": "stream",
     "text": [
      "True\n"
     ]
    }
   ],
   "source": [
    "# if any letter contains the given letter theeen this\n",
    "\n",
    "def is_forbidden_letter(letter, list_words):\n",
    "    letter_lower = letter.lower()\n",
    "    for i in list_words:\n",
    "        if letter_lower in i:\n",
    "            return True\n",
    "    return False\n",
    "\n",
    "\n",
    "\n",
    "list_words = ['apple', 'banane', 'pear']\n",
    "\n",
    "letter = 'p'\n",
    "\n",
    "print(is_forbidden_letter(letter, list_words))"
   ]
  },
  {
   "cell_type": "code",
   "execution_count": 26,
   "metadata": {},
   "outputs": [
    {
     "name": "stdout",
     "output_type": "stream",
     "text": [
      "[1, 2, 3]\n",
      "ABC\n"
     ]
    }
   ],
   "source": [
    "# randomly creating desired output in a given scenarios\n",
    "\n",
    "import random\n",
    "\n",
    "rand_list = [[1, 2, 3], [26, 25, 24], [13, 1, 19, 8], [20, 8, 9, 19], [9, 19], [1, 2, 3, 4, 5, 6, 7, 8, 9, 10], [16, 18, 15, 7, 18, 1, 13], [3, 15, 4, 5]]\n",
    "\n",
    "choose = random.choice(rand_list)\n",
    "\n",
    "def decode_teaser(decimal_numbers):\n",
    "    dictt = {1 : 'A', 2 : 'B', 3 : 'C', 4 : 'D', 5 : 'E', 6 : 'F', 7 : 'G', 8 : 'H', 9 : 'I', 10 : 'J', 11 : 'K', 12 : 'L', 13 : 'M', 14 : 'N', 15 : 'O', 16 : 'P', 17 : 'Q', 18 : 'R', 19 : 'S', 20 : 'T', 21 : 'U', 22 : 'V', 23 : 'W', 24 : 'X', 25 : 'Y', 26 : 'Z'}\n",
    "    return ''.join([dictt[i] for i in choose])\n",
    "\n",
    "decimal_numbers = [16, 18, 15, 7, 18, 1, 13]\n",
    "\n",
    "print(choose)\n",
    "print(decode_teaser(decimal_numbers))"
   ]
  },
  {
   "cell_type": "code",
   "execution_count": 66,
   "metadata": {},
   "outputs": [
    {
     "name": "stdout",
     "output_type": "stream",
     "text": [
      "['6', '2', '4', '0']\n"
     ]
    }
   ],
   "source": [
    "def escape(hints, digits):\n",
    "    listt = []\n",
    "    index = []\n",
    "    password = []\n",
    "    for i in hints:\n",
    "        if i.contains('not'): ####Buraya bakıp birşey eklemek lazım yada approach değişecek\n",
    "            listt.append(i[0])\n",
    "            index.append(i[len(i) - 1])\n",
    "\n",
    "    missing = set(digits) - set(listt)\n",
    "    listt.append(list(missing)[0])\n",
    "\n",
    "    for i in range(len(digits)):\n",
    "        if str(i) not in index:\n",
    "            missing_index = i\n",
    "\n",
    "    index.append(f'{missing_index}')\n",
    "\n",
    "    for i in index:\n",
    "        password.append(listt[int(i)])\n",
    "\n",
    "    return password\n",
    "\n",
    "\n",
    "hints = [\"0 is in position 3\", \"2 is not in position 1\", \"4 is in position 2\"]\n",
    "\n",
    "digits = ['0','2','4','6']\n",
    "\n",
    "print(escape(hints, digits))"
   ]
  },
  {
   "cell_type": "code",
   "execution_count": 1,
   "metadata": {},
   "outputs": [
    {
     "name": "stdout",
     "output_type": "stream",
     "text": [
      "621\n"
     ]
    }
   ],
   "source": [
    "def binary_to_decimal(b):\n",
    "    decimal = 0\n",
    "    for i in range(len(b)):\n",
    "        decimal += int(b[i]) * 2 ** (len(b) - 1 - i)\n",
    "    return decimal\n",
    "\n",
    "\n",
    "b = '1001101101'\n",
    "\n",
    "print(binary_to_decimal(b))"
   ]
  },
  {
   "cell_type": "code",
   "execution_count": 9,
   "metadata": {},
   "outputs": [
    {
     "name": "stdout",
     "output_type": "stream",
     "text": [
      "V\n"
     ]
    }
   ],
   "source": [
    "def single_occurrence(txt):\n",
    "    for i in txt:\n",
    "        if txt.count(i) == 1:\n",
    "            return i\n",
    "    return None\n",
    "\n",
    "\n",
    "txt = 'AAAAVNNNNSS'\n",
    "\n",
    "print(single_occurrence(txt))"
   ]
  },
  {
   "cell_type": "code",
   "execution_count": 13,
   "metadata": {},
   "outputs": [
    {
     "name": "stdout",
     "output_type": "stream",
     "text": [
      "493\n"
     ]
    }
   ],
   "source": [
    "def programmers(a1, a2, a3):\n",
    "    difference = max(a1, a2, a3) - min(a1, a2, a3)\n",
    "    return difference\n",
    "\n",
    "\n",
    "a1, a2, a3 = 147, 33, 526\n",
    "\n",
    "print(programmers(a1, a2, a3))"
   ]
  },
  {
   "cell_type": "code",
   "execution_count": 17,
   "metadata": {},
   "outputs": [
    {
     "name": "stdout",
     "output_type": "stream",
     "text": [
      "[1, 5, 7, 35, 67, 335, 469, 2345]\n"
     ]
    }
   ],
   "source": [
    "def get_factors(n):\n",
    "    listt = []\n",
    "    for i in range(1, n + 1):\n",
    "        if n % i == 0:\n",
    "            listt.append(i)\n",
    "    return listt\n",
    "\n",
    "n = 2345\n",
    "\n",
    "print(list(get_factors(n)))"
   ]
  },
  {
   "cell_type": "code",
   "execution_count": 19,
   "metadata": {},
   "outputs": [
    {
     "name": "stdout",
     "output_type": "stream",
     "text": [
      "True\n"
     ]
    }
   ],
   "source": [
    "def is_triangle(a, b, c):\n",
    "    if a + b > c and a + c > b and b + c > a:\n",
    "        return True\n",
    "    else:\n",
    "        return False\n",
    "\n",
    "\n",
    "a, b, c = 5, 3, 4\n",
    "\n",
    "print(is_triangle(a, b, c))"
   ]
  },
  {
   "cell_type": "code",
   "execution_count": 26,
   "metadata": {},
   "outputs": [
    {
     "name": "stdout",
     "output_type": "stream",
     "text": [
      "31.5\n"
     ]
    }
   ],
   "source": [
    "def triangle_area(base, height):\n",
    "    area = (base * height) / 2\n",
    "    if area.is_integer():\n",
    "        return int(area)\n",
    "    else:\n",
    "        return area\n",
    "\n",
    "\n",
    "base, height = 7, 9\n",
    "\n",
    "print(triangle_area(base, height))"
   ]
  },
  {
   "cell_type": "code",
   "execution_count": 5,
   "metadata": {},
   "outputs": [
    {
     "name": "stdout",
     "output_type": "stream",
     "text": [
      "304000\n"
     ]
    }
   ],
   "source": [
    "def estimate_house_price(attributes):\n",
    "    total = 100000\n",
    "    for i in attributes.keys():\n",
    "        if i == \"bedrooms\":\n",
    "            total = total + attributes[i] * 5000\n",
    "        if i == \"bathrooms\":\n",
    "            total = total + attributes[i] * 3000\n",
    "        if i == \"square_feet\":\n",
    "            total = total + attributes[i] * 50\n",
    "        if i == \"garage\" and attributes[i] == True:\n",
    "            total = total + 10000\n",
    "        if i == \"neighborhood\":\n",
    "            if attributes[i] == \"Rural\":\n",
    "                total = total + 10000\n",
    "            if attributes[i] == \"Suburban\":\n",
    "                total = total + 20000\n",
    "            if attributes[i] == \"Urban\":\n",
    "                total = total + 15000\n",
    "    return total\n",
    "\n",
    "\n",
    "attributes = {\"bedrooms\": 5, \"bathrooms\": 3, \"square_feet\": 2800, \"neighborhood\": \"Suburban\", \"garage\": True}\n",
    "\n",
    "print(estimate_house_price(attributes))"
   ]
  },
  {
   "cell_type": "code",
   "execution_count": 8,
   "metadata": {},
   "outputs": [
    {
     "name": "stdout",
     "output_type": "stream",
     "text": [
      "8\n"
     ]
    }
   ],
   "source": [
    "#turn back\n",
    "\n",
    "def x(input_list):\n",
    "    total = 0\n",
    "    if all(input_list[i] < 0 for i in input_list):\n",
    "        return max(input_list)\n",
    "    for i in range(len(input_list)):\n",
    "        if len(input_list) == 0:\n",
    "            return 0\n",
    "        elif input_list[i] > 0:\n",
    "            total += input_list[i]\n",
    "    return total\n",
    "\n",
    "input_list = [1, 2, -1, 2, -1, 3]\n",
    "\n",
    "print(x(input_list))"
   ]
  },
  {
   "cell_type": "code",
   "execution_count": 7,
   "metadata": {},
   "outputs": [
    {
     "name": "stdout",
     "output_type": "stream",
     "text": [
      "I love gnimmargorp\n"
     ]
    }
   ],
   "source": [
    "def spicewood_shade(sentence):\n",
    "    a = sentence.split()\n",
    "    b = []\n",
    "    for i in a:\n",
    "        if \"e\" in i:\n",
    "            b.append(i)\n",
    "        else:\n",
    "            b.append(i[::-1])\n",
    "\n",
    "    return \" \".join(b)\n",
    "\n",
    "sentence = \"I love programming\"\n",
    "\n",
    "print(spicewood_shade(sentence))"
   ]
  },
  {
   "cell_type": "code",
   "execution_count": 20,
   "metadata": {},
   "outputs": [
    {
     "name": "stdout",
     "output_type": "stream",
     "text": [
      "144\n"
     ]
    }
   ],
   "source": [
    "def first_fibonacci_in_range(start, end):\n",
    "    fibonacci = [0, 1]\n",
    "    listt = []\n",
    "    for i in range(2, end + 1):\n",
    "        fibonacci.append(fibonacci[i - 1] + fibonacci[i - 2])\n",
    "    \n",
    "    for i in range(start, end + 1):\n",
    "        if i in fibonacci:\n",
    "            listt.append(i)\n",
    "        \n",
    "    sorted_listt = sorted(listt)\n",
    "\n",
    "    return min(sorted_listt)        \n",
    "\n",
    "\n",
    "\n",
    "start = 144\n",
    "end = 233\n",
    "\n",
    "print(first_fibonacci_in_range(start, end))"
   ]
  },
  {
   "cell_type": "code",
   "execution_count": 49,
   "metadata": {},
   "outputs": [
    {
     "name": "stdout",
     "output_type": "stream",
     "text": [
      "True\n"
     ]
    }
   ],
   "source": [
    "def title_ends_with(book_title, ending):\n",
    "    book_title_lower = book_title.lower()\n",
    "    a = book_title_lower.split()\n",
    "    if len(a) == 1:\n",
    "        if ending.lower() == a[-1]:\n",
    "            return True\n",
    "    elif ending.lower() in a[-1]:\n",
    "        return True\n",
    "    return False\n",
    "\n",
    "book_title = \"The Great Gatsby\"\n",
    "ending = \"Gatsby\"\n",
    "\n",
    "print(title_ends_with(book_title, ending))"
   ]
  },
  {
   "cell_type": "code",
   "execution_count": 55,
   "metadata": {},
   "outputs": [
    {
     "name": "stdout",
     "output_type": "stream",
     "text": [
      "0.01\n"
     ]
    }
   ],
   "source": [
    "def to_usd(jpy):\n",
    "    usd = jpy * 0.0069\n",
    "    return round(usd, 2)\n",
    "\n",
    "jpy = 1\n",
    "\n",
    "print(to_usd(jpy))"
   ]
  },
  {
   "cell_type": "code",
   "execution_count": 71,
   "metadata": {},
   "outputs": [
    {
     "name": "stdout",
     "output_type": "stream",
     "text": [
      "False\n"
     ]
    }
   ],
   "source": [
    "def symmetrical_number(num):\n",
    "    str_num = str(num)\n",
    "    if str_num == str_num[::-1]:\n",
    "        return True\n",
    "    return False\n",
    "\n",
    "num = 1245321\n",
    "\n",
    "print(symmetrical_number(num))"
   ]
  },
  {
   "cell_type": "code",
   "execution_count": 81,
   "metadata": {},
   "outputs": [
    {
     "name": "stdout",
     "output_type": "stream",
     "text": [
      "[4, 16, 36, 64, 100, 144, 196, 256, 324, 400, 484, 576, 676, 784, 900, 1024, 1156, 1296, 1444, 1600, 1764, 1936, 2116, 2304, 2500]\n"
     ]
    }
   ],
   "source": [
    "def find_special_numbers(n):\n",
    "    listt = []\n",
    "    for i in range(2, 2 * n + 1, 2):\n",
    "        listt.append(i * i)\n",
    "\n",
    "    return listt\n",
    "\n",
    "n = 25\n",
    "\n",
    "print(find_special_numbers(n))"
   ]
  },
  {
   "cell_type": "code",
   "execution_count": 28,
   "metadata": {},
   "outputs": [
    {
     "name": "stdout",
     "output_type": "stream",
     "text": [
      "-3\n"
     ]
    }
   ],
   "source": [
    "def x(input_number, operation, convert_to):\n",
    "    holder = 0\n",
    "    operation_list = operation.split()\n",
    "    if operation_list[0] == \"add\":\n",
    "        holder = int(input_number + int(operation_list[1]))\n",
    "    if operation_list[0] == \"substract\":\n",
    "        holder = int(input_number - int(operation_list[1]))\n",
    "    if operation_list[0] == \"multiply\":\n",
    "        holder = int(input_number * int(operation_list[1]))\n",
    "    if operation_list[0] == \"divide\":\n",
    "        holder = int(input_number / int(operation_list[1]))\n",
    "\n",
    "    if convert_to == \"decimal\":\n",
    "        return holder\n",
    "    if convert_to == \"binary\":\n",
    "        binary_str = bin(holder)\n",
    "        return binary_str[2:]\n",
    "        \n",
    "\n",
    "input_number = 1\n",
    "operation = \"substract 4\"\n",
    "convert_to = \"decimal\"\n",
    "\n",
    "print(x(input_number, operation, convert_to))\n"
   ]
  },
  {
   "cell_type": "code",
   "execution_count": 18,
   "metadata": {},
   "outputs": [
    {
     "name": "stdout",
     "output_type": "stream",
     "text": [
      "True\n"
     ]
    }
   ],
   "source": [
    "def is_dog(s):\n",
    "    if \"dog\" in s.lower():\n",
    "        return True\n",
    "    return False\n",
    "\n",
    "\n",
    "s = \"I have a dog named Max\"\n",
    "\n",
    "print(is_dog(s))"
   ]
  },
  {
   "cell_type": "code",
   "execution_count": 23,
   "metadata": {},
   "outputs": [
    {
     "name": "stdout",
     "output_type": "stream",
     "text": [
      "['100', '100', '100', '100', '100', '100', '100', '100', '100', '100', '100', '100', '100', '100', '100', '100', '100', '100', '100', '100']\n"
     ]
    }
   ],
   "source": [
    "def cut_wood(wood_length_cm, cuts):\n",
    "    pieces = []\n",
    "    if cuts == 0:\n",
    "        pieces.append(bin(wood_length_cm)[2:])\n",
    "        return pieces\n",
    "    elif cuts > 0:\n",
    "        each_unit = int((wood_length_cm - (cuts + 1)) / (cuts + 1))\n",
    "        for i in range(cuts + 1):\n",
    "            pieces.append(bin(each_unit)[2:])\n",
    "        return pieces\n",
    "\n",
    "wood_length_cm = 100\n",
    "cuts = 19\n",
    "\n",
    "print(cut_wood(wood_length_cm, cuts))"
   ]
  },
  {
   "cell_type": "code",
   "execution_count": 38,
   "metadata": {},
   "outputs": [
    {
     "name": "stdout",
     "output_type": "stream",
     "text": [
      "Packing list for Bob:\n",
      "- Clothes for 8 days\n",
      "- Toiletries\n",
      "- Extra shoes\n",
      "\n"
     ]
    }
   ],
   "source": [
    "def create_packing_list(traveler_name, days_per_location):\n",
    "    total_days = sum(days_per_location)\n",
    "    total = []\n",
    "    first = f\"Packing list for {traveler_name}:\\n\"\n",
    "    second = f\"- Clothes for {total_days} days\\n\"\n",
    "    third = \"- Toiletries\"\n",
    "    if total_days < 7:\n",
    "        total = first + second + third\n",
    "    elif total_days > 10:\n",
    "        fourth = \"- Extra shoes\"\n",
    "        fifth = \"- Laundry soap\"\n",
    "        total = first + second + third + \"\\n\" + fourth + \"\\n\" + fifth\n",
    "    elif total_days > 7:\n",
    "        fourth = \"- Extra shoes\\n\"\n",
    "        total = first + second + third + \"\\n\" + fourth\n",
    "\n",
    "    return total\n",
    "\n",
    "traveler_name = \"Bob\"\n",
    "days_per_location = [3,5]\n",
    "\n",
    "print(create_packing_list(traveler_name, days_per_location))\n",
    "    "
   ]
  },
  {
   "cell_type": "code",
   "execution_count": 43,
   "metadata": {},
   "outputs": [
    {
     "name": "stdout",
     "output_type": "stream",
     "text": [
      "55\n"
     ]
    }
   ],
   "source": [
    "def codingProblems(a1, a2):\n",
    "    total = a1 + a2\n",
    "    if total % 2 == 0:\n",
    "        return int((total / 2) * 5)\n",
    "    else:\n",
    "        return int((total - 1) / 2) * 5\n",
    "\n",
    "a1 = 10\n",
    "a2 = 12\n",
    "\n",
    "print(codingProblems(a1, a2))"
   ]
  },
  {
   "cell_type": "code",
   "execution_count": 97,
   "metadata": {},
   "outputs": [
    {
     "name": "stdout",
     "output_type": "stream",
     "text": [
      "status = Breeze\n"
     ]
    }
   ],
   "source": [
    "wind = int(input()) # Don't change this line\n",
    "status = \"unset\"\n",
    "\n",
    "if wind < 8:\n",
    "    status = \"Calm\"\n",
    "elif wind >= 8 and wind <= 31:\n",
    "    status = \"Breeze\"\n",
    "elif wind >= 32 and wind <= 63:\n",
    "    status = \"Gale\"\n",
    "else:\n",
    "    status = \"Storm\"\n",
    "\n",
    "print(f\"status = {status}\")"
   ]
  },
  {
   "cell_type": "code",
   "execution_count": 102,
   "metadata": {},
   "outputs": [
    {
     "name": "stdout",
     "output_type": "stream",
     "text": [
      "46\n"
     ]
    }
   ],
   "source": [
    "n1 = int(input()) # Don't change this line\n",
    "n2 = int(input()) # Don't change this line\n",
    "op = input() # Don't change this line\n",
    "result = 0\n",
    "\n",
    "if op == \"+\":\n",
    "    result = n1 + n2\n",
    "elif op == \"-\":\n",
    "    result = n1 - n2\n",
    "elif op == \"*\":\n",
    "    result = n1 * n2\n",
    "elif op == \"/\":\n",
    "    result = n1 / n2\n",
    "    \n",
    "print(result)"
   ]
  },
  {
   "cell_type": "code",
   "execution_count": 103,
   "metadata": {},
   "outputs": [
    {
     "name": "stdout",
     "output_type": "stream",
     "text": [
      "Hello, Cihat\n"
     ]
    }
   ],
   "source": [
    "var = input()\n",
    "\n",
    "print(f\"Hello, {var}\")"
   ]
  },
  {
   "cell_type": "code",
   "execution_count": 112,
   "metadata": {},
   "outputs": [
    {
     "name": "stdout",
     "output_type": "stream",
     "text": [
      "49.0\n"
     ]
    }
   ],
   "source": [
    "var1 = float(input())\n",
    "var2 = float(input())\n",
    "\n",
    "result = var1 * var2\n",
    "\n",
    "print(result)"
   ]
  },
  {
   "cell_type": "code",
   "execution_count": 114,
   "metadata": {},
   "outputs": [
    {
     "name": "stdout",
     "output_type": "stream",
     "text": [
      "95 years till 120\n"
     ]
    }
   ],
   "source": [
    "age = int(input())\n",
    "\n",
    "age_left = 120 - age\n",
    "\n",
    "print(f\"{age_left} years till 120\")"
   ]
  },
  {
   "cell_type": "code",
   "execution_count": 116,
   "metadata": {},
   "outputs": [
    {
     "name": "stdout",
     "output_type": "stream",
     "text": [
      "{'name': 'John Doe', 'age': 25, 'city': 'Los Angeles', 'email': 'johndoe@example.com'}\n"
     ]
    }
   ],
   "source": [
    "person = {\n",
    "    \"name\": \"John Doe\",\n",
    "    \"age\": 25,\n",
    "    \"city\": \"Los Angeles\",\n",
    "    \"email\": \"johndoe@example.com\"\n",
    "}\n",
    "\n",
    "print(person)"
   ]
  },
  {
   "cell_type": "code",
   "execution_count": 15,
   "metadata": {},
   "outputs": [
    {
     "name": "stdout",
     "output_type": "stream",
     "text": [
      "Master\n"
     ]
    }
   ],
   "source": [
    "def sculpt_masterpiece(block_of_marble, instructions):\n",
    "    for i in instructions:\n",
    "        if i in block_of_marble:\n",
    "            block_of_marble = block_of_marble.replace(i, \"\")\n",
    "\n",
    "    return block_of_marble\n",
    "\n",
    "\n",
    "block_of_marble = \"Michelangelo's Masterpiece\"\n",
    "instructions = [\"Michelangelo's \", \"piece\"]\n",
    "\n",
    "print(sculpt_masterpiece(block_of_marble, instructions))"
   ]
  },
  {
   "cell_type": "code",
   "execution_count": 20,
   "metadata": {},
   "outputs": [
    {
     "name": "stdout",
     "output_type": "stream",
     "text": [
      "Ana ⌨️ Loves_c 0ding_tal3nt\n"
     ]
    }
   ],
   "source": [
    "def to_title_case(s):\n",
    "    storage = []\n",
    "    s_last = s.strip().split()\n",
    "    for i in s_last:\n",
    "        storage.append(i.capitalize())\n",
    "    return \" \".join(storage)\n",
    "\n",
    "s = \"ana ⌨️ loveS_c  0ding_tal3nT\"\n",
    "\n",
    "print(to_title_case(s))"
   ]
  },
  {
   "cell_type": "code",
   "execution_count": 28,
   "metadata": {},
   "outputs": [
    {
     "name": "stdout",
     "output_type": "stream",
     "text": [
      "[]\n"
     ]
    }
   ],
   "source": [
    "def even_odd_divider(lst):\n",
    "    even = []\n",
    "    odd = []\n",
    "\n",
    "    if len(lst) > 0:\n",
    "        for i in lst:\n",
    "            if int(i) % 2 == 0:\n",
    "                even.append(int(i))\n",
    "            else:\n",
    "                odd.append(int(i))\n",
    "        return [even, odd]\n",
    "    else:\n",
    "        return []\n",
    "\n",
    "lst = []\n",
    "\n",
    "print(even_odd_divider(lst))"
   ]
  },
  {
   "cell_type": "code",
   "execution_count": 47,
   "metadata": {},
   "outputs": [
    {
     "name": "stdout",
     "output_type": "stream",
     "text": [
      "10\n"
     ]
    }
   ],
   "source": [
    "def sum_minimums(mat):\n",
    "    minimums = []\n",
    "    for i in mat:\n",
    "        minimums.append(min(i))\n",
    "\n",
    "    return sum(minimums)\n",
    "\n",
    "mat = [[1], [2], [3], [4]]\n",
    "\n",
    "print(x(mat))"
   ]
  },
  {
   "cell_type": "code",
   "execution_count": 53,
   "metadata": {},
   "outputs": [
    {
     "name": "stdout",
     "output_type": "stream",
     "text": [
      "[1, 3]\n"
     ]
    }
   ],
   "source": [
    "def min_max(nums):\n",
    "    return [min(nums), max(nums)]\n",
    "\n",
    "\n",
    "nums = [3, 2, 1]\n",
    "\n",
    "print(min_max(nums))"
   ]
  },
  {
   "cell_type": "code",
   "execution_count": 57,
   "metadata": {},
   "outputs": [
    {
     "name": "stdout",
     "output_type": "stream",
     "text": [
      "['Buddy', 'Daisy']\n"
     ]
    }
   ],
   "source": [
    "def get_adopted(dogs):\n",
    "    names = []\n",
    "    for i in dogs:\n",
    "        if i[1] == False and i[2] == True:\n",
    "            names.append(i[0])\n",
    "    return names\n",
    "\n",
    "\n",
    "dogs = [('Buddy', False, True), ('Max', False, False), ('Charlie', True, True), ('Lucy', True, False), ('Daisy', False, True)]\n",
    "\n",
    "print(x(dogs))"
   ]
  },
  {
   "cell_type": "code",
   "execution_count": 5,
   "metadata": {},
   "outputs": [
    {
     "name": "stdout",
     "output_type": "stream",
     "text": [
      "I have a green car and a green bike.\n"
     ]
    }
   ],
   "source": [
    "def adversarial_color(a_string):\n",
    "    if \"red\" or \"blue\" in a_string:\n",
    "        a_string =a_string.replace(\"blue\", \"green\")\n",
    "        a_string = a_string.replace(\"red\", \"green\")\n",
    "    return a_string\n",
    "\n",
    "a_string = \"I have a red car and a blue bike.\"\n",
    "\n",
    "print(adversarial_color(a_string))"
   ]
  },
  {
   "cell_type": "code",
   "execution_count": 8,
   "metadata": {},
   "outputs": [
    {
     "name": "stdout",
     "output_type": "stream",
     "text": [
      "False\n"
     ]
    }
   ],
   "source": [
    "def multiple_of(num):\n",
    "    if num > 0:\n",
    "        if num % 5 == 0 or num % 7 == 0:\n",
    "            return True\n",
    "        return False\n",
    "    \n",
    "\n",
    "num = 64\n",
    "\n",
    "print(multiple_of(num))"
   ]
  },
  {
   "cell_type": "code",
   "execution_count": 1,
   "metadata": {},
   "outputs": [
    {
     "name": "stdout",
     "output_type": "stream",
     "text": [
      "True\n"
     ]
    }
   ],
   "source": [
    "def x(elem):\n",
    "    elem_lower = elem.lower()\n",
    "    if elem_lower in [\"true\", \"1\"]:\n",
    "        return False\n",
    "    elif elem_lower in [\"false\", \"0\"]:\n",
    "        return True\n",
    "    else:\n",
    "        return \"wrong input\"\n",
    "\n",
    "elem = \"FalSE\"\n",
    "print(x(elem))"
   ]
  },
  {
   "cell_type": "code",
   "execution_count": 25,
   "metadata": {},
   "outputs": [
    {
     "name": "stdout",
     "output_type": "stream",
     "text": [
      "To Kill a Mockingbird\n"
     ]
    }
   ],
   "source": [
    "def title_case(title, minor_words):\n",
    "    title_lower = title.lower()\n",
    "    minor_word_lower = minor_words.lower()\n",
    "    title_split = title_lower.split()\n",
    "    minor_word_split = minor_word_lower.split()\n",
    "\n",
    "    for i in range(len(title_split)):\n",
    "        if title_split[i] not in minor_word_split:\n",
    "            title_split[i] = title_split[i].capitalize()\n",
    "\n",
    "    if title_split[0] != title_split[0].upper():\n",
    "        title_split[0] = title_split[0].capitalize()\n",
    "\n",
    "    return \" \".join(title_split)    \n",
    "\n",
    "\n",
    "\n",
    "title = \"to kill a mockingbird\"\n",
    "minor_words = \"a\"\n",
    "\n",
    "print(title_case(title, minor_words))"
   ]
  },
  {
   "cell_type": "code",
   "execution_count": 74,
   "metadata": {},
   "outputs": [
    {
     "name": "stdout",
     "output_type": "stream",
     "text": [
      "[20, 27]\n"
     ]
    }
   ],
   "source": [
    "def time_manipulation(s):\n",
    "    a = s[-2:]  # AM or PM\n",
    "    \n",
    "    # Strip the input and split into components\n",
    "    genel = s.strip().split()\n",
    "    hour = int(genel[0].split(\":\")[0])\n",
    "    minute = int(genel[0].split(\":\")[1])\n",
    "\n",
    "    if a == \"AM\":\n",
    "        if hour == 12:  # Convert 12 AM to 00\n",
    "            hour = 0\n",
    "    elif a == \"PM\":\n",
    "        if hour != 12:  # Add 12 to the hour unless it's 12 PM\n",
    "            hour += 12\n",
    "\n",
    "    return [hour, minute]\n",
    "\n",
    "\n",
    "s = \"08:27 PM\"\n",
    "\n",
    "print(time_manipulation(s))"
   ]
  },
  {
   "cell_type": "code",
   "execution_count": 20,
   "metadata": {},
   "outputs": [
    {
     "name": "stdout",
     "output_type": "stream",
     "text": [
      "0\n"
     ]
    }
   ],
   "source": [
    "# If it is not list like this below scenario its not working....\n",
    "\n",
    "gods = [\"Jehovah\", \"Allah\", \"Buddha\", \"Vishnu\", \"Krishna\", \"Yahweh\", \"Zeus\", \"Hera\", \"Poseidon\", \"Athena\", \"Hades\", \"Odin\", \"Thor\", \"Loki\", \"Amaterasu\", \"Jupiter\", \"Mars\", \"Venus\", \"Ceres\", \"Neptune\", \"Pluto\", \"Apollo\", \"Artemis\", \"Hermes\", \"Dionysus\", \"Hephaestus\", \"Demeter\", \"Persephone\", \"Diana\", \"Mercury\", \"Vulcan\", \"Vesta\", \"Juno\", \"Cupid\", \"Luna\", \"Saturn\", \"Uranus\", \"Gaia\", \"Eros\", \"Aphrodite\", \"Ares\", \"Artemis\", \"Horus\", \"Osiris\", \"Ra\", \"Isis\", \"Seth\", \"Freya\"]\n",
    "\n",
    "def count_gods_names(s):\n",
    "    count = 0\n",
    "    s_list = []\n",
    "    gods_list = []\n",
    "    \n",
    "    if \" \" and \",\" in s:\n",
    "        s_split = s.lower().strip().split(', ')\n",
    "    elif \" \" in s:\n",
    "        s_split = s.lower().strip().split(' ')\n",
    "    elif \",\" in s:\n",
    "        s_split = s.lower().strip().split(',')\n",
    "\n",
    "    if s != \"\":\n",
    "        for i in s_split:\n",
    "            if i.lower() not in s_list:\n",
    "                s_list.append(i.lower())\n",
    "\n",
    "        for i in gods:\n",
    "            if i.lower() not in gods_list:\n",
    "                gods_list.append(i.lower())\n",
    "\n",
    "        for i in s_list:\n",
    "            if i in gods_list:\n",
    "                count = count + 1\n",
    "\n",
    "        return count\n",
    "    else:\n",
    "        return 0\n",
    "\n",
    "\n",
    "s = \"Hello there, my name is Odin and I'm the god of war. People also worship the mighty Thor and the beautiful Freya. Some even pay homage to the mischievous Loki!\"\n",
    "\n",
    "print(count_gods_names(s))"
   ]
  },
  {
   "cell_type": "code",
   "execution_count": 5,
   "metadata": {},
   "outputs": [
    {
     "name": "stdout",
     "output_type": "stream",
     "text": [
      "aelpp\n"
     ]
    }
   ],
   "source": [
    "def x(scrambled_word):\n",
    "    list_word = []\n",
    "    for i in scrambled_word:\n",
    "        list_word.append(i)\n",
    "    list_word.sort()\n",
    "    return \"\".join(list_word)\n",
    "\n",
    "\n",
    "scrambled_word = \"ppale\"\n",
    "\n",
    "print(x(scrambled_word))"
   ]
  },
  {
   "cell_type": "code",
   "execution_count": 6,
   "metadata": {},
   "outputs": [
    {
     "name": "stdout",
     "output_type": "stream",
     "text": [
      "NOHTYP\n"
     ]
    }
   ],
   "source": [
    "def x(sequence, indices):\n",
    "    indices_first = indices[0]\n",
    "    indices_last = indices[-1]\n",
    "    indices_between = sequence[indices_first:indices_last]\n",
    "    indices_reverse = indices_between[::-1]\n",
    "\n",
    "    return (sequence[:indices_first] + indices_reverse + sequence[indices_last:])\n",
    "\n",
    "\n",
    "\n",
    "sequence = \"PYTHON\"\n",
    "indices = [0, 6]\n",
    "\n",
    "print(x(sequence, indices))"
   ]
  },
  {
   "cell_type": "code",
   "execution_count": 10,
   "metadata": {},
   "outputs": [
    {
     "name": "stdout",
     "output_type": "stream",
     "text": [
      "5\n"
     ]
    }
   ],
   "source": [
    "def count_blooming_flowers(flower_heights):\n",
    "    count = 0\n",
    "    for i in flower_heights:\n",
    "        if i >= 5:\n",
    "            count = count + 1\n",
    "\n",
    "    return count\n",
    "\n",
    "flower_heights = [5, 5, 5, 5, 5]\n",
    "\n",
    "print(count_blooming_flowers(flower_heights))"
   ]
  },
  {
   "cell_type": "code",
   "execution_count": 16,
   "metadata": {},
   "outputs": [
    {
     "name": "stdout",
     "output_type": "stream",
     "text": [
      "Dire\n"
     ]
    }
   ],
   "source": [
    "def emissions_evaluation(year):\n",
    "    if year <= 1990:\n",
    "        return \"Dire\"\n",
    "    if year >= 1991 and year <= 2000:\n",
    "        return \"Bad\"\n",
    "    if year >= 2001 and year <= 2010:\n",
    "        return \"Moderate\"\n",
    "    if year > 2010:\n",
    "        return \"Good\"\n",
    "\n",
    "\n",
    "year = 1985\n",
    "\n",
    "print(emissions_evaluation(year))"
   ]
  },
  {
   "cell_type": "code",
   "execution_count": 46,
   "metadata": {},
   "outputs": [
    {
     "name": "stdout",
     "output_type": "stream",
     "text": [
      "23:59:59\n"
     ]
    }
   ],
   "source": [
    "def seconds_to_minutes_seconds(s):\n",
    "    hours = 0\n",
    "    minutes = 0\n",
    "    seconds = 0\n",
    "    if s >= 3600:\n",
    "        hours = int(s / 3600)\n",
    "        s = s - (hours * 3600)\n",
    "    if s >= 60:\n",
    "        minutes = int(s / 60)\n",
    "        s = s - (minutes * 60)\n",
    "    seconds = int(s)\n",
    "    return (str(hours).zfill(2) + \":\" + str(minutes).zfill(2) + \":\" + str(seconds).zfill(2))\n",
    "    \n",
    "\n",
    "\n",
    "s = 86399\n",
    "\n",
    "print(x(s))"
   ]
  },
  {
   "cell_type": "code",
   "execution_count": 72,
   "metadata": {},
   "outputs": [
    {
     "name": "stdout",
     "output_type": "stream",
     "text": [
      "2\n"
     ]
    }
   ],
   "source": [
    "def count_trees(s):\n",
    "    count = 0\n",
    "    s_strip = s.strip().replace(\" \", \"\")\n",
    "    for i in s_strip:\n",
    "        if i == 'T':\n",
    "            count = count + 1\n",
    "\n",
    "    return count\n",
    "\n",
    "s = \"T  t T \"\n",
    "\n",
    "print(count_trees(s))"
   ]
  },
  {
   "cell_type": "code",
   "execution_count": 9,
   "metadata": {},
   "outputs": [
    {
     "name": "stdout",
     "output_type": "stream",
     "text": [
      "91\n"
     ]
    }
   ],
   "source": [
    "def ctoa(a):\n",
    "    return ord(a)\n",
    "\n",
    "a = \"[\"\n",
    "\n",
    "print(ctoa(a))"
   ]
  },
  {
   "cell_type": "code",
   "execution_count": 16,
   "metadata": {},
   "outputs": [
    {
     "name": "stdout",
     "output_type": "stream",
     "text": [
      "O'Donnell Rosie\n"
     ]
    }
   ],
   "source": [
    "def swap(a):\n",
    "    space = a.find(\" \")\n",
    "    a_1 = a[0:space]\n",
    "    a_2 = a[space + 1:]\n",
    "    return a_2 + \" \" + a_1\n",
    "\n",
    "\n",
    "a = \"Rosie O'Donnell\"\n",
    "\n",
    "print(swap(a))"
   ]
  },
  {
   "cell_type": "code",
   "execution_count": 9,
   "metadata": {},
   "outputs": [
    {
     "name": "stdout",
     "output_type": "stream",
     "text": [
      "True\n"
     ]
    }
   ],
   "source": [
    "def is_narcissistic(num):\n",
    "    str_num = str(num)\n",
    "    total = sum(int(i) ** len(str_num) for i in str_num)\n",
    "    if total != num:\n",
    "        return False\n",
    "    return True\n",
    "\n",
    "num = 7\n",
    "\n",
    "print(is_narcissistic(num))"
   ]
  },
  {
   "cell_type": "code",
   "execution_count": 12,
   "metadata": {},
   "outputs": [
    {
     "name": "stdout",
     "output_type": "stream",
     "text": [
      "Peasent\n"
     ]
    }
   ],
   "source": [
    "def get_knight_rank(score, is_winner):\n",
    "    if score == 100 and is_winner == True:\n",
    "        return \"Grand Champion\"\n",
    "    elif score >= 90 and is_winner == True:\n",
    "        return \"Champion\"\n",
    "    elif score >= 80 and is_winner == True:\n",
    "        return \"Master\"\n",
    "    elif score >= 70 and is_winner == True:\n",
    "        return \"Veteran\"\n",
    "    elif score >= 50 and is_winner == True:\n",
    "        return \"Knight\"\n",
    "    else:\n",
    "        return \"Peasant\"\n",
    "    \n",
    "    \n",
    "\n",
    "score = 60\n",
    "is_winner = False\n",
    "\n",
    "print(get_knight_rank(score, is_winner))"
   ]
  },
  {
   "cell_type": "code",
   "execution_count": 16,
   "metadata": {},
   "outputs": [
    {
     "name": "stdout",
     "output_type": "stream",
     "text": [
      "False\n"
     ]
    }
   ],
   "source": [
    "def x(num):\n",
    "    if num[::1] == num[::-1]:\n",
    "        return True\n",
    "    else:\n",
    "        return False\n",
    "    \n",
    "\n",
    "num = \"789787\"\n",
    "\n",
    "print(x(num))"
   ]
  },
  {
   "cell_type": "code",
   "execution_count": 5,
   "metadata": {},
   "outputs": [
    {
     "name": "stdout",
     "output_type": "stream",
     "text": [
      "1.875\n"
     ]
    }
   ],
   "source": [
    "a = float(input())\n",
    "\n",
    "while a >= 3.5:\n",
    "    a = a / 2\n",
    "\n",
    "print(a)"
   ]
  },
  {
   "cell_type": "code",
   "execution_count": 10,
   "metadata": {},
   "outputs": [
    {
     "name": "stdout",
     "output_type": "stream",
     "text": [
      "120\n"
     ]
    }
   ],
   "source": [
    "def factorial(s):\n",
    "    if s == 0 or s == 1:\n",
    "        return 1\n",
    "    else:\n",
    "        return (s * factorial(s - 1))\n",
    "\n",
    "\n",
    "s = int(input())\n",
    "\n",
    "print(factorial(s))"
   ]
  },
  {
   "cell_type": "code",
   "execution_count": 15,
   "metadata": {},
   "outputs": [
    {
     "name": "stdout",
     "output_type": "stream",
     "text": [
      "12\n"
     ]
    }
   ],
   "source": [
    "first_input = int(input())\n",
    "total = 0\n",
    "for i in range(first_input):\n",
    "    total = total + int(input())\n",
    "\n",
    "print(total)"
   ]
  },
  {
   "cell_type": "code",
   "execution_count": 20,
   "metadata": {},
   "outputs": [
    {
     "name": "stdout",
     "output_type": "stream",
     "text": [
      "50005000\n",
      "50005000\n",
      "50005000\n",
      "50005000\n",
      "50005000\n"
     ]
    }
   ],
   "source": [
    "s = int(input())\n",
    "\n",
    "for i in range(s):\n",
    "    total = 0\n",
    "    for i in range(10001):\n",
    "        total = total + i\n",
    "    print(total)\n"
   ]
  },
  {
   "cell_type": "code",
   "execution_count": 24,
   "metadata": {},
   "outputs": [
    {
     "name": "stdout",
     "output_type": "stream",
     "text": [
      "2.8999999999999995\n"
     ]
    }
   ],
   "source": [
    "def x(samples):\n",
    "    return max(samples) - min(samples)\n",
    "\n",
    "\n",
    "samples = [5.2, 6.3, 7, 7, 8.1]\n",
    "\n",
    "print(x(samples))"
   ]
  },
  {
   "cell_type": "code",
   "execution_count": 41,
   "metadata": {},
   "outputs": [
    {
     "name": "stdout",
     "output_type": "stream",
     "text": [
      "aaaabbbbccccddddeeeeffffxxgghhiijjkkll\n"
     ]
    }
   ],
   "source": [
    "# i completed code above that now\n",
    "\n",
    "def duplicate_until_x(string):\n",
    "    stringg = \"\"\n",
    "    k = string.find(\"x\")\n",
    "    if \"x\" not in string:\n",
    "        return string\n",
    "    else:\n",
    "        for i in string:\n",
    "            if i == \"x\":\n",
    "                stringg = stringg + \"x\" + string[k:]\n",
    "                break\n",
    "            elif i != \"x\":\n",
    "                stringg = stringg + (i * 2)\n",
    "        return stringg\n",
    "\n",
    "string = \"aabbccddeeffxgghhiijjkkll\"\n",
    "\n",
    "print(duplicate_until_x(string))"
   ]
  },
  {
   "cell_type": "code",
   "execution_count": 3,
   "metadata": {},
   "outputs": [
    {
     "name": "stdout",
     "output_type": "stream",
     "text": [
      "0\n"
     ]
    }
   ],
   "source": [
    "def multiplier(x, y):\n",
    "    return x * y\n",
    "\n",
    "\n",
    "x = int(input())\n",
    "y = int(input())\n",
    "\n",
    "print(multiplier(x, y))"
   ]
  },
  {
   "cell_type": "code",
   "execution_count": 17,
   "metadata": {},
   "outputs": [
    {
     "name": "stdout",
     "output_type": "stream",
     "text": [
      "Earth Mars Venus\n"
     ]
    }
   ],
   "source": [
    "def x(alien_symbols, translation_table):\n",
    "    table = []\n",
    "    for i in alien_symbols:\n",
    "        if i in translation_table:\n",
    "            table.append(translation_table[i])\n",
    "        elif i in translation_table.values():\n",
    "            table.append(i)\n",
    "        elif i == \" \":\n",
    "            table.append(i)\n",
    "    return \"\".join(table)\n",
    "\n",
    "alien_symbols = \"X Y Z\"\n",
    "\n",
    "translation_table = {\"X\": \"Earth\", \"Y\": \"Mars\", \"Z\": \"Venus\"}\n",
    "\n",
    "print(x(alien_symbols, translation_table))"
   ]
  },
  {
   "cell_type": "code",
   "execution_count": 21,
   "metadata": {},
   "outputs": [
    {
     "name": "stdout",
     "output_type": "stream",
     "text": [
      "true\n"
     ]
    }
   ],
   "source": [
    "def is_symmetric(n):\n",
    "    str_n = str(n)\n",
    "    if str_n[::1] == str_n[::-1]:\n",
    "        return \"true\"\n",
    "    return \"false\"\n",
    "\n",
    "\n",
    "n = 133454331\n",
    "\n",
    "print(is_symmetric(n))"
   ]
  },
  {
   "cell_type": "code",
   "execution_count": 32,
   "metadata": {},
   "outputs": [
    {
     "name": "stdout",
     "output_type": "stream",
     "text": [
      "150 50 5000 2\n"
     ]
    }
   ],
   "source": [
    "def program(A, B):\n",
    "    summ = str(A + B)\n",
    "    minuss = str(A - B)\n",
    "    multiply = str(int(A * B))\n",
    "    divide = str(int(A / B))\n",
    "    return summ + \" \" + minuss + \" \" + multiply + \" \" + divide\n",
    "\n",
    "k = input().split()\n",
    "A = int(k[0])\n",
    "B = int(k[1])\n",
    "\n",
    "print(program(A, B))"
   ]
  },
  {
   "cell_type": "code",
   "execution_count": 45,
   "metadata": {},
   "outputs": [
    {
     "name": "stdout",
     "output_type": "stream",
     "text": [
      "[]\n"
     ]
    }
   ],
   "source": [
    "def entangle_qubits(qubits):\n",
    "    listt = []\n",
    "    qubits_len_wanted = 2\n",
    "    length_qubits = len(qubits)\n",
    "    last_version = []\n",
    "    dictt = {(0, 0): 0, (0, 1): 1, (1, 0): 1, (1, 1): 0}\n",
    "    if length_qubits > 2:\n",
    "        for i in range(0, length_qubits - 1):\n",
    "            listt.append(qubits[i:i + qubits_len_wanted])\n",
    "\n",
    "        for i in listt:\n",
    "            i_tuple = tuple(i)\n",
    "            if i_tuple in dictt:\n",
    "                last_version.append(dictt[i_tuple])\n",
    "    else:\n",
    "        last_version = qubits\n",
    "\n",
    "\n",
    "    return last_version\n",
    "\n",
    "qubits = []\n",
    "\n",
    "print(x(qubits))"
   ]
  },
  {
   "cell_type": "code",
   "execution_count": 50,
   "metadata": {},
   "outputs": [
    {
     "name": "stdout",
     "output_type": "stream",
     "text": [
      "9\n"
     ]
    }
   ],
   "source": [
    "def compute_carbon_emissions(activities):\n",
    "    activity_co2 = {\n",
    "    \"Tractor\": 2,\n",
    "    \"Irrigation\": 3,\n",
    "    \"Harvesting\": 4,\n",
    "    \"Spraying\": 11,\n",
    "    \"Plowing\": 23,\n",
    "    \"Transportation\": 8,\n",
    "    \"Fertilizing\": 8\n",
    "}\n",
    "\n",
    "    return sum([activity_co2[i] for i in activities])\n",
    "\n",
    "activities = ['Tractor', 'Irrigation', 'Harvesting']\n",
    "\n",
    "print(compute_carbon_emissions(activities))"
   ]
  },
  {
   "cell_type": "code",
   "execution_count": 54,
   "metadata": {},
   "outputs": [
    {
     "name": "stdout",
     "output_type": "stream",
     "text": [
      "Crackdown\n"
     ]
    }
   ],
   "source": [
    "def check(x):\n",
    "    if x > 9:\n",
    "        return \"Tiger\"\n",
    "    else:\n",
    "        return \"Crackdown\"\n",
    "    \n",
    "\n",
    "x = 1\n",
    "\n",
    "print(check(x))"
   ]
  },
  {
   "cell_type": "code",
   "execution_count": 57,
   "metadata": {},
   "outputs": [
    {
     "name": "stdout",
     "output_type": "stream",
     "text": [
      "9\n"
     ]
    }
   ],
   "source": [
    "def highest_digit(n):\n",
    "    str_n = str(n)\n",
    "    return max(str_n)\n",
    "\n",
    "n = 379\n",
    "\n",
    "print(highest_digit(n))"
   ]
  },
  {
   "cell_type": "code",
   "execution_count": 64,
   "metadata": {},
   "outputs": [
    {
     "name": "stdout",
     "output_type": "stream",
     "text": [
      "60\n"
     ]
    }
   ],
   "source": [
    "def count_legs(chickens, cows, pigs):\n",
    "    chicken_legs = chickens * 2\n",
    "    cows_legs = cows * 4\n",
    "    pigs_legs = pigs * 4\n",
    "    return chicken_legs + cows_legs + pigs_legs\n",
    "\n",
    "chickens = int(input())\n",
    "cows = int(input())\n",
    "pigs = int(input())\n",
    "\n",
    "print(count_legs(chickens, cows, pigs))"
   ]
  },
  {
   "cell_type": "code",
   "execution_count": 71,
   "metadata": {},
   "outputs": [
    {
     "name": "stdout",
     "output_type": "stream",
     "text": [
      "0\n"
     ]
    }
   ],
   "source": [
    "def count_occurrences(str, ch):\n",
    "    count = 0\n",
    "    for i in str:\n",
    "        if i == ch:\n",
    "            count = count + 1\n",
    "    return count\n",
    "\n",
    "str = \"abcdefg\"\n",
    "ch = \"A\"\n",
    "\n",
    "print(count_occurrences(str, ch))"
   ]
  },
  {
   "cell_type": "code",
   "execution_count": 1,
   "metadata": {},
   "outputs": [
    {
     "name": "stdout",
     "output_type": "stream",
     "text": [
      "John Doe\n"
     ]
    }
   ],
   "source": [
    "person = {\n",
    "    \"name\": \"John Doe\",\n",
    "    \"age\": 25,\n",
    "    \"city\": \"Los Angeles\",\n",
    "    \"email\": \"johndoe@example.com\"\n",
    "}\n",
    "\n",
    "print(person[\"name\"])"
   ]
  },
  {
   "cell_type": "code",
   "execution_count": 3,
   "metadata": {},
   "outputs": [
    {
     "name": "stdout",
     "output_type": "stream",
     "text": [
      "Python for Beginners\n",
      "Alice Smith\n",
      "2022\n",
      "200\n",
      "Programming\n",
      "Tech Books Inc.\n"
     ]
    }
   ],
   "source": [
    "# The book dictionary\n",
    "book = {\n",
    "    \"title\": \"Python for Beginners\",\n",
    "    \"author\": \"Alice Smith\",\n",
    "    \"year\": 2022,\n",
    "    \"pages\": 200,\n",
    "    \"genre\": \"Programming\",\n",
    "    \"publisher\": \"Tech Books Inc.\"\n",
    "}\n",
    "\n",
    "for i in book.keys():\n",
    "    print(book[i])"
   ]
  },
  {
   "cell_type": "code",
   "execution_count": 5,
   "metadata": {},
   "outputs": [
    {
     "name": "stdout",
     "output_type": "stream",
     "text": [
      "Updated Stock: {'apple': 12, 'banana': 10, 'cherry': 3, 'date': 11}\n"
     ]
    }
   ],
   "source": [
    "# The stock dictionary\n",
    "stock = {\n",
    "    \"apple\": 10,\n",
    "    \"banana\": 15,\n",
    "    \"cherry\": 5,\n",
    "    \"date\": 8\n",
    "}\n",
    "\n",
    "# Your code here:\n",
    "stock[\"apple\"] = 12\n",
    "stock[\"cherry\"] = 3\n",
    "stock[\"date\"] = 11\n",
    "stock[\"banana\"] = 10\n",
    "\n",
    "# Don't change below this line\n",
    "print(\"Updated Stock:\", stock)\n"
   ]
  },
  {
   "cell_type": "code",
   "execution_count": 6,
   "metadata": {},
   "outputs": [
    {
     "name": "stdout",
     "output_type": "stream",
     "text": [
      "Updated Courses: {'Math': 35, 'History': 25, 'Science': 22, 'English': 28, 'Art': 15, 'Music': 18}\n"
     ]
    }
   ],
   "source": [
    "# The course dictionary\n",
    "courses = {\n",
    "    \"Math\": 30,\n",
    "    \"History\": 25,\n",
    "    \"Science\": 20,\n",
    "    \"English\": 28\n",
    "}\n",
    "\n",
    "# Your code here:\n",
    "courses[\"Math\"] = 35\n",
    "courses[\"Art\"] = 15\n",
    "courses[\"Science\"] = 22\n",
    "courses[\"Music\"] = 18\n",
    "\n",
    "# Don't change below this line\n",
    "print(\"Updated Courses:\", courses)"
   ]
  },
  {
   "cell_type": "code",
   "execution_count": 7,
   "metadata": {},
   "outputs": [
    {
     "name": "stdout",
     "output_type": "stream",
     "text": [
      "Updated Playlist: {'Song1': 200, 'Song2': 195, 'Song4': 190, 'Song5': 220}\n"
     ]
    }
   ],
   "source": [
    "# The playlist dictionary\n",
    "playlist = {\n",
    "    \"Song1\": 180,  # Duration in seconds\n",
    "    \"Song2\": 210,\n",
    "    \"Song3\": 160,\n",
    "    \"Song4\": 190\n",
    "}\n",
    "\n",
    "# Your code here\n",
    "playlist[\"Song1\"] = 200\n",
    "playlist[\"Song5\"] = 220\n",
    "playlist[\"Song2\"] = 195\n",
    "playlist.pop(\"Song3\")\n",
    "\n",
    "# Don't change below this line\n",
    "print(\"Updated Playlist:\", playlist)\n"
   ]
  },
  {
   "cell_type": "code",
   "execution_count": 9,
   "metadata": {},
   "outputs": [
    {
     "name": "stdout",
     "output_type": "stream",
     "text": [
      "Does 'book' exist in the dictionary? True\n",
      "Does 'cat' exist in the dictionary? False\n",
      "Does 'dog' exist in the dictionary? True\n"
     ]
    }
   ],
   "source": [
    "# The dictionary of words and their meanings\n",
    "word_meanings = {\n",
    "    \"apple\": \"a fruit\",\n",
    "    \"book\": \"a written or printed work\",\n",
    "    \"car\": \"a motor vehicle with four wheels\",\n",
    "    \"dog\": \"a domesticated mammal\"\n",
    "}\n",
    "\n",
    "# Your code here\n",
    "def find_meaning(k):\n",
    "    for i in word_meanings.keys():\n",
    "        if k in i:\n",
    "            return True\n",
    "    return False\n",
    "\n",
    "# Don't change below this line\n",
    "print(\"Does 'book' exist in the dictionary?\", find_meaning(\"book\"))\n",
    "print(\"Does 'cat' exist in the dictionary?\", find_meaning(\"cat\"))\n",
    "print(\"Does 'dog' exist in the dictionary?\", find_meaning(\"dog\"))\n"
   ]
  },
  {
   "cell_type": "code",
   "execution_count": 13,
   "metadata": {},
   "outputs": [
    {
     "name": "stdout",
     "output_type": "stream",
     "text": [
      "-84.66666666666667\n"
     ]
    }
   ],
   "source": [
    "def calculate_average_grade(student_grades):\n",
    "    return sum(student_grades.values()) / len(student_grades)\n",
    "\n",
    "\n",
    "student_grades = {\"Alice\": -90.0, \"Bob\": -85.5, \"Charlie\": -78.5}\n",
    "print(calculate_average_grade(student_grades))"
   ]
  },
  {
   "cell_type": "code",
   "execution_count": 15,
   "metadata": {},
   "outputs": [
    {
     "name": "stdout",
     "output_type": "stream",
     "text": [
      "{'1984': {'author': 'George Orwell', 'year': 1949, 'available': True}}\n",
      "{'1984': {'author': 'George Orwell', 'year': 1949, 'available': True}, 'Brave New World': {'author': 'Aldous Huxley', 'year': 1932, 'available': True}}\n"
     ]
    }
   ],
   "source": [
    "def add_book(catalog, title, author, year):\n",
    "    catalog[title] = {'author': author, 'year': year, 'available': True}\n",
    "    return catalog\n",
    "\n",
    "\n",
    "catalog = {}\n",
    "print(add_book(catalog, \"1984\", \"George Orwell\", 1949))\n",
    "print(add_book(catalog, \"Brave New World\", \"Aldous Huxley\", 1932))"
   ]
  },
  {
   "cell_type": "code",
   "execution_count": 16,
   "metadata": {},
   "outputs": [
    {
     "name": "stdout",
     "output_type": "stream",
     "text": [
      "{'author': 'J.D. Salinger', 'year': 1951, 'available': True}\n"
     ]
    }
   ],
   "source": [
    "def search_book(catalog, title):\n",
    "    if title not in catalog.keys():\n",
    "        return \"Book not found in the catalog\"\n",
    "    return catalog[title]\n",
    "\n",
    "\n",
    "catalog = {\n",
    "    \"The Catcher in the Rye\": {\"author\": \"J.D. Salinger\", \"year\": 1951, \"available\": True}\n",
    "}\n",
    "\n",
    "print(search_book(catalog, \"The Catcher in the Rye\"))"
   ]
  },
  {
   "cell_type": "code",
   "execution_count": 22,
   "metadata": {},
   "outputs": [
    {
     "name": "stdout",
     "output_type": "stream",
     "text": [
      "{'1984': {'author': 'George Orwell', 'year': 1949, 'available': False}, 'Brave New World': {'author': 'Aldous Huxley', 'year': 1932, 'available': True}}\n"
     ]
    }
   ],
   "source": [
    "def update_availability(catalog, title, new_availability):\n",
    "    for i in catalog.keys():\n",
    "        if i == title:\n",
    "            catalog[i].update(available=new_availability)\n",
    "        return catalog\n",
    "\n",
    "\n",
    "catalog = {\n",
    "    \"1984\": {\"author\": \"George Orwell\", \"year\": 1949, \"available\": True},\n",
    "    \"Brave New World\": {\"author\": \"Aldous Huxley\", \"year\": 1932, \"available\": True}\n",
    "}\n",
    "\n",
    "print(update_availability(catalog, \"1984\", False))"
   ]
  },
  {
   "cell_type": "code",
   "execution_count": 57,
   "metadata": {},
   "outputs": [
    {
     "name": "stdout",
     "output_type": "stream",
     "text": [
      "Book2\n"
     ]
    }
   ],
   "source": [
    "def find_most_recent_book(library_catalog):\n",
    "    listt = []\n",
    "    for i in library_catalog:\n",
    "        for j in i:\n",
    "            if j == \"year\" and i[j] not in listt:\n",
    "                listt.append(i[j])\n",
    "    max_index = 0\n",
    "\n",
    "    for i in range(len(listt)):\n",
    "        if listt[i] == max(listt):\n",
    "            max_index = i\n",
    "\n",
    "    return library_catalog[max_index][\"title\"]\n",
    "\n",
    "library_catalog = [{\"title\": \"Book1\", \"year\": 2010}, {\"title\": \"Book2\", \"year\": 2022}, {\"title\": \"Book3\", \"year\": 2015}, {\"title\": \"Book4\", \"year\": 2015}, {\"title\": \"Book5\", \"year\": 2005}]\n",
    "\n",
    "print(x(library_catalog))"
   ]
  },
  {
   "cell_type": "code",
   "execution_count": 1,
   "metadata": {},
   "outputs": [
    {
     "name": "stdout",
     "output_type": "stream",
     "text": [
      "[9995, 9996, 9997, 9998, 9999, 10000]\n"
     ]
    }
   ],
   "source": [
    "def reverse_star_brightness(brightness):\n",
    "    return brightness[::-1]\n",
    "\n",
    "brightness =[10000, 9999, 9998, 9997, 9996, 9995]\n",
    "\n",
    "print(reverse_star_brightness(brightness))"
   ]
  },
  {
   "cell_type": "code",
   "execution_count": 12,
   "metadata": {},
   "outputs": [
    {
     "name": "stdout",
     "output_type": "stream",
     "text": [
      "5.2\n"
     ]
    }
   ],
   "source": [
    "def x(items_dict):\n",
    "    total = 0\n",
    "    for i in items_dict.keys():  \n",
    "        total = total + items_dict[i]\n",
    "    return total\n",
    "\n",
    "items_dict = {\"item1\": 5.2}\n",
    "print(x(items_dict))"
   ]
  },
  {
   "cell_type": "code",
   "execution_count": 16,
   "metadata": {},
   "outputs": [
    {
     "name": "stdout",
     "output_type": "stream",
     "text": [
      "[2, 4, 6, 8, 1, 3, 5, 7, 9]\n"
     ]
    }
   ],
   "source": [
    "def sort_by_parity(arr):\n",
    "    final = []\n",
    "    even = []\n",
    "    odd = []\n",
    "    for i in arr:\n",
    "        if i % 2 == 0:\n",
    "            even.append(i)\n",
    "        else:\n",
    "            odd.append(i)\n",
    "            \n",
    "    return even + odd\n",
    "    \n",
    "arr = [1, 2, 3, 4, 5, 6, 7, 8, 9]\n",
    "\n",
    "print(sort_by_parity(arr))"
   ]
  },
  {
   "cell_type": "code",
   "execution_count": 24,
   "metadata": {},
   "outputs": [
    {
     "name": "stdout",
     "output_type": "stream",
     "text": [
      "0\n"
     ]
    }
   ],
   "source": [
    "def sandpiper_scramble(path):\n",
    "    total = 0\n",
    "    listt = {'F': 1, 'B': -1}\n",
    "    for i in path:\n",
    "        if i in listt:\n",
    "            total = total + listt[i]\n",
    "    return total\n",
    "\n",
    "path = \"\"\n",
    "\n",
    "print(sandpiper_scramble(path))"
   ]
  },
  {
   "cell_type": "code",
   "execution_count": 29,
   "metadata": {},
   "outputs": [
    {
     "name": "stdout",
     "output_type": "stream",
     "text": [
      "16.55294535724685\n"
     ]
    }
   ],
   "source": [
    "import math\n",
    "\n",
    "def shortest_distance(point1, point2):\n",
    "    distance = math.sqrt(((point2[0] - point1[0]) ** 2) + ((point2[1] - point1[1]) ** 2))\n",
    "    return distance\n",
    "    \n",
    "\n",
    "point1 = (10, 20)\n",
    "point2 = (-5, 13)\n",
    "\n",
    "print(shortest_distance(point1, point2))"
   ]
  },
  {
   "cell_type": "code",
   "execution_count": 35,
   "metadata": {},
   "outputs": [
    {
     "name": "stdout",
     "output_type": "stream",
     "text": [
      "[]\n"
     ]
    }
   ],
   "source": [
    "def remove_duplicates(in_list):\n",
    "    listt = []\n",
    "    for i in in_list:\n",
    "        if i not in listt:\n",
    "            listt.append(i)\n",
    "    return listt\n",
    "\n",
    "\n",
    "in_list = []\n",
    "\n",
    "print(remove_duplicates(in_list))"
   ]
  },
  {
   "cell_type": "code",
   "execution_count": 41,
   "metadata": {},
   "outputs": [
    {
     "name": "stdout",
     "output_type": "stream",
     "text": [
      "9\n"
     ]
    }
   ],
   "source": [
    "def largest_element(array):\n",
    "    maxi = 0\n",
    "    for i in range(len(array)):\n",
    "        if array[i] == max(array):\n",
    "            maxi = array[i]\n",
    "    return maxi\n",
    "\n",
    "array = [5, 8, 2, 9, 3]\n",
    "\n",
    "print(largest_element(array))"
   ]
  },
  {
   "cell_type": "code",
   "execution_count": 3,
   "metadata": {},
   "outputs": [
    {
     "name": "stdout",
     "output_type": "stream",
     "text": [
      "[1, 2, 3, 4, 5]\n"
     ]
    }
   ],
   "source": [
    "def selection_sort(arr):\n",
    "    sorted_list = []\n",
    "    while len(arr) > 0:\n",
    "        minn = arr[0]\n",
    "        for i in arr:\n",
    "            if i < minn:\n",
    "                minn = i\n",
    "        sorted_list.append(minn)\n",
    "        arr.remove(minn)\n",
    "    return sorted_list\n",
    "        \n",
    "arr = [4, 2, 1, 5, 3]\n",
    "\n",
    "print(selection_sort(arr))"
   ]
  },
  {
   "cell_type": "code",
   "execution_count": 25,
   "metadata": {},
   "outputs": [
    {
     "name": "stdout",
     "output_type": "stream",
     "text": [
      "localhost\n"
     ]
    }
   ],
   "source": [
    "def extract_domain(url):\n",
    "    url_lowered = url.lower()\n",
    "    if url_lowered.startswith(\"https://\"):\n",
    "        a = url_lowered.replace(\"https://\", \"\")\n",
    "    elif url_lowered.startswith(\"http://\"):\n",
    "        a = url_lowered.replace(\"http://\", \"\")\n",
    "\n",
    "    if a.find(\"/\") == -1:\n",
    "        return a\n",
    "    elif a.find(\"/\") != 0:\n",
    "        a = a[:a.find(\"/\")]\n",
    "    return a\n",
    "\n",
    "url = \"http://www.example.com/path/to/page.html\"\n",
    "\n",
    "print(extract_domain(url))"
   ]
  },
  {
   "cell_type": "code",
   "execution_count": 33,
   "metadata": {},
   "outputs": [
    {
     "name": "stdout",
     "output_type": "stream",
     "text": [
      "worth,fun\n"
     ]
    }
   ],
   "source": [
    "def find_from_string(s, w):\n",
    "    listt = []\n",
    "    for i in w:\n",
    "        if i in s:\n",
    "            listt.append(i)\n",
    "    return \",\".join(listt)\n",
    "\n",
    "s = \"Programming in Python can be both fun and challenging, but it's worth it.\"\n",
    "w = [\"C++\", \"worth\", \"fun\", \"coding\"]\n",
    "\n",
    "print(find_from_string(s, w))"
   ]
  },
  {
   "cell_type": "code",
   "execution_count": 55,
   "metadata": {},
   "outputs": [
    {
     "name": "stdout",
     "output_type": "stream",
     "text": [
      "False\n"
     ]
    }
   ],
   "source": [
    "def is_perfect_square(number):\n",
    "    a = number ** 0.5\n",
    "    dot_find = str(a).find(\".\")\n",
    "    if str(a)[-1:] == 0:\n",
    "        return True\n",
    "    else:\n",
    "        return False\n",
    "\n",
    "number = 16\n",
    "\n",
    "print(is_perfect_square(number))"
   ]
  },
  {
   "cell_type": "code",
   "execution_count": 40,
   "metadata": {},
   "outputs": [
    {
     "name": "stdout",
     "output_type": "stream",
     "text": [
      "4.0\n"
     ]
    }
   ],
   "source": [
    "print(number ** 0.5)"
   ]
  },
  {
   "cell_type": "code",
   "execution_count": 54,
   "metadata": {},
   "outputs": [
    {
     "name": "stdout",
     "output_type": "stream",
     "text": [
      "1\n"
     ]
    }
   ],
   "source": [
    "a = \"4.021\"\n",
    "\n",
    "print(a[-1:])"
   ]
  },
  {
   "cell_type": "code",
   "execution_count": 11,
   "metadata": {},
   "outputs": [
    {
     "name": "stdout",
     "output_type": "stream",
     "text": [
      "false\n"
     ]
    }
   ],
   "source": [
    "def is_omnipresent(a, n):\n",
    "    for i in a:\n",
    "        if not any(n == j for j in i):\n",
    "            return \"false\"\n",
    "    return \"true\"\n",
    "\n",
    "\n",
    "a = [[]]\n",
    "\n",
    "n = 100\n",
    "\n",
    "print(is_omnipresent(a, n))"
   ]
  },
  {
   "cell_type": "code",
   "execution_count": 28,
   "metadata": {},
   "outputs": [
    {
     "name": "stdout",
     "output_type": "stream",
     "text": [
      "applebananacherrydate\n"
     ]
    }
   ],
   "source": [
    "def smooth_garden(soil1, soil2):\n",
    "    soil_total = soil1 + soil2\n",
    "    soil_sorted = sorted(soil_total)\n",
    "    liste = []\n",
    "    numbers = [\"0\", \"1\", \"2\", \"3\", \"4\", \"5\", \"6\", \"7\", \"8\", \"9\"]\n",
    "    for i in soil_sorted:\n",
    "        for j in i:\n",
    "            if j in numbers:\n",
    "                i = i.replace(j, \"smooth\")\n",
    "        liste.append(i)\n",
    "    return \"\".join(liste)\n",
    "\n",
    "soil1 = [\"apple\", \"banana\"]\n",
    "soil2 = [\"cherry\", \"date\"]\n",
    "\n",
    "\n",
    "print(smooth_garden(soil1, soil2))"
   ]
  },
  {
   "cell_type": "code",
   "execution_count": 36,
   "metadata": {},
   "outputs": [
    {
     "name": "stdout",
     "output_type": "stream",
     "text": [
      "True\n"
     ]
    }
   ],
   "source": [
    "def has_unique_chars(s):\n",
    "    if len(s) > 0:\n",
    "        for i in range(len(s)):\n",
    "            if s.count(s[i]) > 1:\n",
    "                return False\n",
    "    return True\n",
    "\n",
    "s = \"1a2b3c\"\n",
    "\n",
    "print(has_unique_chars(s))"
   ]
  },
  {
   "cell_type": "code",
   "execution_count": 39,
   "metadata": {},
   "outputs": [
    {
     "name": "stdout",
     "output_type": "stream",
     "text": [
      "True\n"
     ]
    }
   ],
   "source": [
    "def is_palindrome(s):\n",
    "    return s[::1] == s[::-1]\n",
    "\n",
    "s = \"level\"\n",
    "\n",
    "print(is_palindrome(s))"
   ]
  },
  {
   "cell_type": "code",
   "execution_count": 45,
   "metadata": {},
   "outputs": [
    {
     "name": "stdout",
     "output_type": "stream",
     "text": [
      "True\n"
     ]
    }
   ],
   "source": [
    "def are_disjoint(arr1, arr2):\n",
    "    for i in arr1:\n",
    "        for j in arr2:\n",
    "            if i == j:\n",
    "                return False\n",
    "    return True\n",
    "\n",
    "arr1 = [23, 12, 4, 7, 11, 33, 9, 7, 11]\n",
    "arr2 = [1, 2, 3, 6, 8]\n",
    "\n",
    "print(are_disjoint(arr1, arr2))"
   ]
  },
  {
   "cell_type": "code",
   "execution_count": 49,
   "metadata": {},
   "outputs": [
    {
     "name": "stdout",
     "output_type": "stream",
     "text": [
      "[1, 2, 3, 4, 5]\n"
     ]
    }
   ],
   "source": [
    "def remove_duplicates(in_list):\n",
    "    listt = []\n",
    "    for i in in_list:\n",
    "        if i not in listt:\n",
    "            listt.append(i)\n",
    "    return listt\n",
    "\n",
    "in_list = [1, 2, 3, 3, 4, 4, 5]\n",
    "\n",
    "print(remove_duplicates(in_list))"
   ]
  },
  {
   "cell_type": "code",
   "execution_count": 55,
   "metadata": {},
   "outputs": [
    {
     "name": "stdout",
     "output_type": "stream",
     "text": [
      "42\n"
     ]
    }
   ],
   "source": [
    "def sum_of_divisors(num):\n",
    "    liste = []\n",
    "    for i in range(1, num + 1):\n",
    "        if num % i == 0:\n",
    "            liste.append(i)\n",
    "    return sum(liste)\n",
    "\n",
    "num = 20\n",
    "\n",
    "print(sum_of_divisors(num))"
   ]
  },
  {
   "cell_type": "code",
   "execution_count": 65,
   "metadata": {},
   "outputs": [
    {
     "name": "stdout",
     "output_type": "stream",
     "text": [
      "False\n"
     ]
    }
   ],
   "source": [
    "def is_armstrong_number(n):\n",
    "    total_holder = []\n",
    "    str_n = str(n)\n",
    "    num_digit = len(str_n)\n",
    "    for i in str_n:\n",
    "        total_holder.append(int(i) ** num_digit)\n",
    "    return sum(total_holder) == n\n",
    "        \n",
    "n = 9475\n",
    "\n",
    "print(is_armstrong_number(n))"
   ]
  },
  {
   "cell_type": "code",
   "execution_count": 71,
   "metadata": {},
   "outputs": [
    {
     "name": "stdout",
     "output_type": "stream",
     "text": [
      "0\n"
     ]
    }
   ],
   "source": [
    "def decimal_to_binary(num):\n",
    "    bin_num = bin(num)\n",
    "    bin_last = bin_num.replace(\"0b\", \"\")\n",
    "    return bin_last\n",
    "\n",
    "num = 0\n",
    "\n",
    "print(decimal_to_binary(num))"
   ]
  },
  {
   "cell_type": "code",
   "execution_count": 128,
   "metadata": {},
   "outputs": [
    {
     "name": "stdout",
     "output_type": "stream",
     "text": [
      "[500, 550, 605, 665, 732, 805, 885]\n"
     ]
    }
   ],
   "source": [
    "def simulate_abnormal_growth(initial_population, growth_rate, days):\n",
    "    growth_list = []\n",
    "    growth_list.append(initial_population)\n",
    "\n",
    "    for i in range(days - 1):\n",
    "        initial_population = (initial_population + (initial_population * growth_rate))\n",
    "\n",
    "        growth_list.append(int(initial_population))\n",
    "\n",
    "    return growth_list\n",
    "\n",
    "\n",
    "initial_population = 500\n",
    "growth_rate = 0.1\n",
    "days = 7\n",
    "\n",
    "print(simulate_abnormal_growth(initial_population, growth_rate, days))"
   ]
  },
  {
   "cell_type": "code",
   "execution_count": 131,
   "metadata": {},
   "outputs": [
    {
     "name": "stdout",
     "output_type": "stream",
     "text": [
      "cddoy\n"
     ]
    }
   ],
   "source": [
    "def alphabet_soup(s):\n",
    "    sorted_s = sorted(s)\n",
    "    return \"\".join(sorted_s)\n",
    "\n",
    "s = \"coddy\"\n",
    "\n",
    "print(alphabet_soup(s))"
   ]
  },
  {
   "cell_type": "code",
   "execution_count": 12,
   "metadata": {},
   "outputs": [
    {
     "name": "stdout",
     "output_type": "stream",
     "text": [
      "welcomewe\n"
     ]
    }
   ],
   "source": [
    "def cycle_strings(str1, str2):\n",
    "    len_str1 = len(str1)\n",
    "    len_str2 = len(str2)\n",
    "    str1_total = []\n",
    "    difference = len_str2 - len_str1\n",
    "    times = int(difference / len_str1) + 1\n",
    "    left = (difference % len_str1)\n",
    "\n",
    "    if len_str1 < len_str2:\n",
    "        for i in range(times):\n",
    "            str1_total.append(str1)\n",
    "        if left > 0:\n",
    "            str1_total.append(str1[:left])    \n",
    "        return \"\".join (str1_total)\n",
    "            \n",
    "\n",
    "    if len_str1 > len_str2:\n",
    "        str1_total = str1[:len_str2]\n",
    "        return \"\".join(str1_total)\n",
    "\n",
    "\n",
    "str1 = \"welcome\"\n",
    "str2 = \"tothecode\"\n",
    "\n",
    "print(cycle_strings(str1, str2))"
   ]
  },
  {
   "cell_type": "code",
   "execution_count": 6,
   "metadata": {},
   "outputs": [
    {
     "name": "stdout",
     "output_type": "stream",
     "text": [
      "['A', 'b', 'C', 'd', 'E', 'f', 'G']\n"
     ]
    }
   ],
   "source": [
    "def tune_french_horns(notes):\n",
    "    listt = []\n",
    "    for i in range(len(notes)):\n",
    "        if i % 2 == 0:\n",
    "            listt.append(notes[i].capitalize())\n",
    "        else:\n",
    "            listt.append(notes[i])\n",
    "    return listt\n",
    "\n",
    "\n",
    "listt = ['a', 'b', 'c', 'd', 'e', 'f', 'g']\n",
    "\n",
    "print(tune_french_horns(listt))"
   ]
  },
  {
   "cell_type": "code",
   "execution_count": 9,
   "metadata": {},
   "outputs": [
    {
     "name": "stdout",
     "output_type": "stream",
     "text": [
      "5\n"
     ]
    }
   ],
   "source": [
    "def find_missing_number(arr):\n",
    "    liste = []\n",
    "    for i in range(len(arr) + 1):\n",
    "        liste.append(i)\n",
    "\n",
    "    for i in liste:\n",
    "        if i not in arr:\n",
    "            return i\n",
    "        \n",
    "arr = [1, 0, 3, 4, 2]\n",
    "\n",
    "print(find_missing_number(arr))"
   ]
  },
  {
   "cell_type": "code",
   "execution_count": 14,
   "metadata": {},
   "outputs": [
    {
     "name": "stdout",
     "output_type": "stream",
     "text": [
      "8\n"
     ]
    }
   ],
   "source": [
    "import random\n",
    "def random_int(a, b):\n",
    "    return random.randint(a, b)\n",
    "a = 5\n",
    "b = 9\n",
    "\n",
    "print(random_int(a, b))"
   ]
  },
  {
   "cell_type": "code",
   "execution_count": 16,
   "metadata": {},
   "outputs": [
    {
     "name": "stdout",
     "output_type": "stream",
     "text": [
      "Friend 1\n"
     ]
    }
   ],
   "source": [
    "def seashells_collector(s1, s2):\n",
    "    s1_total = sum(s1)\n",
    "    s2_total = sum(s2)\n",
    "    if s1_total > s2_total:\n",
    "        return \"Friend 1\"\n",
    "    elif s2_total > s1_total:\n",
    "        return \"Friend 2\"\n",
    "    else:\n",
    "        return \"Both\"\n",
    "    \n",
    "\n",
    "s1 = [2, 2, 2, 2]\n",
    "s2 = [1, 1, 1, 1]\n",
    "\n",
    "print(seashells_collector(s1, s2))"
   ]
  },
  {
   "cell_type": "code",
   "execution_count": 24,
   "metadata": {},
   "outputs": [
    {
     "name": "stdout",
     "output_type": "stream",
     "text": [
      "Overweight\n"
     ]
    }
   ],
   "source": [
    "def categorize_bmi(weight, height):\n",
    "    int_weight = int(weight)\n",
    "    int_height = int(height)\n",
    "    bmi = weight / (height * height)\n",
    "    if bmi >= 30:\n",
    "        return \"Obese\"\n",
    "    elif bmi >= 25 and b < 29.9:\n",
    "        return \"Overweight\"\n",
    "    elif bmi >= 18.5 and bmi < 24.9:\n",
    "        return \"Normal weight\"\n",
    "    elif bmi < 18.5:\n",
    "        return \"Underweight\"\n",
    "    \n",
    "\n",
    "weight = 75\n",
    "height = 1.63\n",
    "\n",
    "print(categorize_bmi(weight, height))"
   ]
  },
  {
   "cell_type": "code",
   "execution_count": 36,
   "metadata": {},
   "outputs": [
    {
     "name": "stdout",
     "output_type": "stream",
     "text": [
      "0.25\n"
     ]
    }
   ],
   "source": [
    "def fractional_part(x):\n",
    "    str_x = str(x)\n",
    "    dot_index = str_x.find(\".\")\n",
    "    return round(float(str_x[dot_index:]), 2)\n",
    "\n",
    "\n",
    "x = 9.25\n",
    "\n",
    "print(fractional_part(x))"
   ]
  },
  {
   "cell_type": "code",
   "execution_count": 42,
   "metadata": {},
   "outputs": [
    {
     "name": "stdout",
     "output_type": "stream",
     "text": [
      "800\n"
     ]
    }
   ],
   "source": [
    "def calculate_simple_interest(p, r, t):\n",
    "    res = p * r * t\n",
    "    return int(res)\n",
    "\n",
    "\n",
    "p = 10000\n",
    "r = 0.08\n",
    "t = 1\n",
    "\n",
    "print(calculate_simple_interest(p, r, t))"
   ]
  },
  {
   "cell_type": "code",
   "execution_count": 126,
   "metadata": {},
   "outputs": [
    {
     "name": "stdout",
     "output_type": "stream",
     "text": [
      "14\n"
     ]
    }
   ],
   "source": [
    "def square_sum(n):\n",
    "    int_n = int(n)\n",
    "    listt = []\n",
    "    for i in range(int_n + 1):\n",
    "        listt.append(i ** 2)\n",
    "    return sum(listt)\n",
    "\n",
    "\n",
    "n = \"3\"\n",
    "\n",
    "print(square_sum(n))"
   ]
  },
  {
   "cell_type": "code",
   "execution_count": 18,
   "metadata": {},
   "outputs": [
    {
     "name": "stdout",
     "output_type": "stream",
     "text": [
      "('THE25', False)\n"
     ]
    }
   ],
   "source": [
    "def generate_library_code(book_title, publication_year, member_id):\n",
    "    containss = \"777\"\n",
    "    first_three = book_title[0:3].upper()\n",
    "    state = True\n",
    "    last_two = str(publication_year)[-2:]\n",
    "    gathered = str(first_three + last_two)\n",
    "    if containss in member_id:\n",
    "        state = True\n",
    "    else:\n",
    "        state = False\n",
    "        \n",
    "    return (gathered, state)\n",
    "\n",
    "\n",
    "book_title = \"The Great Gatsby\"\n",
    "publication_year = 1925\n",
    "member_id = \"111222333\"\n",
    "\n",
    "print(generate_library_code(book_title, publication_year, member_id))"
   ]
  },
  {
   "cell_type": "markdown",
   "metadata": {},
   "source": [
    "Leetcode"
   ]
  },
  {
   "cell_type": "code",
   "execution_count": 6,
   "metadata": {},
   "outputs": [
    {
     "name": "stdout",
     "output_type": "stream",
     "text": [
      "30\n"
     ]
    }
   ],
   "source": [
    "#Leetcode action start\n",
    "\n",
    "class Solution(object):\n",
    "    def hammingWeight(self, n):\n",
    "        b = bin(n).replace(\"0b\", \"\")\n",
    "\n",
    "        return b.count(\"1\")\n",
    "    \n",
    "\n",
    "sol = Solution()\n",
    "\n",
    "n = 2147483645\n",
    "\n",
    "print(sol.hammingWeight(n))\n"
   ]
  },
  {
   "cell_type": "code",
   "execution_count": null,
   "metadata": {},
   "outputs": [],
   "source": [
    "def tune_french_horns(notes):\n",
    "    listt = []\n",
    "    for i in range(len(notes)):\n",
    "        if i % 2 == 0:\n",
    "            listt.append(notes[i].capitalize())\n",
    "        else:\n",
    "            listt.append(notes[i])\n",
    "    return listt\n",
    "\n",
    "\n",
    "listt = ['c', 'd', 'e', 'f', 'g']\n",
    "\n",
    "print(tune_french_horns(listt))"
   ]
  },
  {
   "cell_type": "code",
   "execution_count": 64,
   "metadata": {},
   "outputs": [
    {
     "name": "stdout",
     "output_type": "stream",
     "text": [
      "True\n"
     ]
    }
   ],
   "source": [
    "from typing import List\n",
    "\n",
    "class Solution:\n",
    "    def hasDuplicate(self, nums: List[int]) -> bool:\n",
    "        for i in nums:\n",
    "            if nums.count(i) > 1:\n",
    "                return True\n",
    "        return False\n",
    "        \n",
    "        \n",
    "nums = [1,2,3,3]\n",
    "\n",
    "sol = Solution()\n",
    "\n",
    "print(sol.hasDuplicate(nums))"
   ]
  },
  {
   "cell_type": "code",
   "execution_count": 110,
   "metadata": {},
   "outputs": [
    {
     "name": "stdout",
     "output_type": "stream",
     "text": [
      "False\n"
     ]
    }
   ],
   "source": [
    "class Solution:\n",
    "    def isAnagram(self, s: str, t: str) -> bool:\n",
    "        if len(s) != len(t):\n",
    "            return False\n",
    "        for i in s:\n",
    "            if i not in t:\n",
    "                return False\n",
    "        for i in s:\n",
    "            if s.count(i) != t.count(i):\n",
    "                return False\n",
    "        return True\n",
    "\n",
    "\n",
    "s = \"racecar\"\n",
    "\n",
    "t = \"rraeaec\"\n",
    "\n",
    "sol = Solution()\n",
    "\n",
    "print(sol.isAnagram(s, t))"
   ]
  },
  {
   "cell_type": "code",
   "execution_count": 115,
   "metadata": {},
   "outputs": [
    {
     "name": "stdout",
     "output_type": "stream",
     "text": [
      "[0, 1]\n"
     ]
    }
   ],
   "source": [
    "class Solution:\n",
    "    def twoSum(self, nums: List[int], target: int) -> List[int]:\n",
    "        for i in range(len(nums)):\n",
    "            for j in range(len(nums)):\n",
    "                if nums[i] + nums[j] == target and i != j:\n",
    "                    return [i, j]\n",
    "\n",
    "\n",
    "nums = [3, 4, 5, 6]\n",
    "\n",
    "target = 7\n",
    "\n",
    "sol = Solution()\n",
    "\n",
    "print(sol.twoSum(nums, target))"
   ]
  },
  {
   "cell_type": "code",
   "execution_count": 129,
   "metadata": {},
   "outputs": [
    {
     "name": "stdout",
     "output_type": "stream",
     "text": [
      "[1, 2]\n"
     ]
    }
   ],
   "source": [
    "from typing import List\n",
    "\n",
    "class Solution:\n",
    "    def topKFrequent(self, nums: List[int], k: int) -> List[int]:\n",
    "        from collections import Counter\n",
    "\n",
    "        count_dict = Counter(nums)\n",
    "\n",
    "        return sorted(count_dict, key=count_dict.get, reverse=True)[:k]\n",
    "        \n",
    "\n",
    "nums = [1, 1, 1, 2, 2, 3]\n",
    "\n",
    "k = 2\n",
    "\n",
    "sol = Solution()\n",
    "\n",
    "print(sol.topKFrequent(nums, k))"
   ]
  },
  {
   "cell_type": "code",
   "execution_count": 173,
   "metadata": {},
   "outputs": [
    {
     "name": "stdout",
     "output_type": "stream",
     "text": [
      "[48, 24, 12, 8]\n"
     ]
    }
   ],
   "source": [
    "class Solution:\n",
    "    def productExceptSelf(self, nums: List[int]) -> List[int]:\n",
    "        listt = []\n",
    "        listt1 = []\n",
    "        for i in range(len(nums)):\n",
    "            listt.append(nums[:i] + nums[i+1:])\n",
    "\n",
    "        sonuc = 1\n",
    "\n",
    "        for i in listt:\n",
    "            for j in i:\n",
    "                sonuc *= j\n",
    "            listt1.append(sonuc)\n",
    "            sonuc = 1\n",
    "        return listt1\n",
    "\n",
    "\n",
    "nums = [1,2,4,6]\n",
    "\n",
    "sol = Solution()\n",
    "\n",
    "print(sol.productExceptSelf(nums))"
   ]
  },
  {
   "cell_type": "code",
   "execution_count": 257,
   "metadata": {},
   "outputs": [
    {
     "name": "stdout",
     "output_type": "stream",
     "text": [
      "[0, 1, -1]\n"
     ]
    }
   ],
   "source": [
    "class Solution:\n",
    "    def longestConsecutive(self, nums: List[int]) -> int:\n",
    "        listt = []\n",
    "        nums_sorted = sorted(nums)\n",
    "        nums_last = list(set(nums_sorted))\n",
    "        count = 1\n",
    "        if len(nums_last) > 1:\n",
    "            for i in range(len(nums_last)):\n",
    "                if nums_last[i] + 1 in nums_last:\n",
    "                    count = count + 1\n",
    "                    listt.append(count)\n",
    "                elif nums_last[i] + 1 not in nums_last and nums_last[i] != nums_last[-1]:\n",
    "                    count = 1\n",
    "                    continue\n",
    "            return nums_last\n",
    "        elif len(nums_last) == 1:\n",
    "            return 1\n",
    "        elif len(nums_last) == 0:\n",
    "            return 0\n",
    "\n",
    "nums = [1,0,-1]\n",
    "\n",
    "sol = Solution()\n",
    "\n",
    "print(sol.longestConsecutive(nums))"
   ]
  },
  {
   "cell_type": "code",
   "execution_count": 15,
   "metadata": {},
   "outputs": [
    {
     "name": "stdout",
     "output_type": "stream",
     "text": [
      "False\n"
     ]
    }
   ],
   "source": [
    "from typing import List\n",
    "class Solution:\n",
    "    def isPalindrome(self, s: str) -> bool:\n",
    "        regex = \"^(?=.*)(?',:=.*)+$\"\n",
    "        s_lower = s.lower()\n",
    "        s_replaced = s_lower.replace(\" \", \"\")\n",
    "        for i in regex:\n",
    "            if i in s_replaced:\n",
    "                s_replaced = s_replaced.replace(i, \"\")\n",
    "\n",
    "        return s_replaced[::1] == s_replaced[::-1]\n",
    "    \n",
    "s = \"0P\"\n",
    "\n",
    "sol = Solution()\n",
    "\n",
    "print(sol.isPalindrome(s))"
   ]
  },
  {
   "cell_type": "code",
   "execution_count": 20,
   "metadata": {},
   "outputs": [
    {
     "name": "stdout",
     "output_type": "stream",
     "text": [
      "[1, 2]\n"
     ]
    }
   ],
   "source": [
    "class Solution:\n",
    "    def twoSum(self, numbers: List[int], target: int) -> List[int]:\n",
    "        for i in range(len(numbers)):\n",
    "            for j in range(len(numbers)):\n",
    "                if numbers[i] + numbers[j] == target and i < j:\n",
    "                    return [i + 1, j + 1]\n",
    "\n",
    "\n",
    "number = [1,2,3,4]\n",
    "\n",
    "target = 3\n",
    "\n",
    "sol = Solution()\n",
    "\n",
    "print(sol.twoSum(number, target))"
   ]
  },
  {
   "cell_type": "code",
   "execution_count": null,
   "metadata": {},
   "outputs": [],
   "source": [
    "##couldnt solve just yet ffs.\n",
    "\n",
    "from typing import List\n",
    "class Solution:\n",
    "    def x(self, nums: List[int]) -> List[List[int]]:\n",
    "        total = []\n",
    "        total_last = []\n",
    "        for i in range(len(nums)):\n",
    "            for j in range(len(nums)):\n",
    "                for k in range(len(nums)):\n",
    "                    if (nums[i] + nums[j] + nums[k] == 0) and (i != j and j != k and i != k):\n",
    "                        total.append([nums[i], nums[j], nums[k]])\n",
    "        for i in range(len(total)):\n",
    "            if not all(total[i] == total_last[i]):\n",
    "                total_last.append(total[i])\n",
    "\n",
    "        return total\n",
    "\n",
    "nums = [-1, 0, 1, 2, -1, -4]\n",
    "\n",
    "sol = Solution()\n",
    "\n",
    "print(sol.x(nums))"
   ]
  },
  {
   "cell_type": "code",
   "execution_count": 125,
   "metadata": {},
   "outputs": [
    {
     "name": "stdout",
     "output_type": "stream",
     "text": [
      "4\n"
     ]
    }
   ],
   "source": [
    "#return to that\n",
    "\n",
    "import random\n",
    "class Solution:\n",
    "    def maxArea(self, heights: List[int]) -> int:\n",
    "        areas = []\n",
    "        a = random.choice(heights)\n",
    "        a_index = heights.index(a)\n",
    "        b_index = 0\n",
    "        for i in range(len(heights)):\n",
    "            if i != a_index:\n",
    "                b = heights[i]\n",
    "                b_index = i\n",
    "                maks_index = max(a_index, b_index)\n",
    "                min_index = min(a_index, b_index)\n",
    "                area = (maks_index - min_index) * min(a, b)\n",
    "                areas.append(area)\n",
    "        return a\n",
    "\n",
    "        \n",
    "\n",
    "heights = [1,7,2,5,4,7,3,6]\n",
    "\n",
    "sol = Solution()\n",
    "\n",
    "print(sol.maxArea(heights))"
   ]
  },
  {
   "cell_type": "code",
   "execution_count": null,
   "metadata": {},
   "outputs": [],
   "source": []
  },
  {
   "cell_type": "code",
   "execution_count": null,
   "metadata": {},
   "outputs": [],
   "source": []
  }
 ],
 "metadata": {
  "kernelspec": {
   "display_name": "Python 3",
   "language": "python",
   "name": "python3"
  },
  "language_info": {
   "codemirror_mode": {
    "name": "ipython",
    "version": 3
   },
   "file_extension": ".py",
   "mimetype": "text/x-python",
   "name": "python",
   "nbconvert_exporter": "python",
   "pygments_lexer": "ipython3",
   "version": "3.11.5"
  }
 },
 "nbformat": 4,
 "nbformat_minor": 2
}
