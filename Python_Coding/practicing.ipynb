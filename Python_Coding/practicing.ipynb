{
 "cells": [
  {
   "cell_type": "markdown",
   "metadata": {},
   "source": [
    "Coddy Tech Practice"
   ]
  },
  {
   "cell_type": "code",
   "execution_count": null,
   "metadata": {},
   "outputs": [],
   "source": [
    "def max(n1, n2):\n",
    "    if n1 > n2:\n",
    "        return n1\n",
    "    else:\n",
    "        return n2\n",
    "    \n",
    "\n",
    "n1 = int(input())\n",
    "n2 = int(input())\n",
    "\n",
    "print(max(n1, n2))"
   ]
  },
  {
   "cell_type": "code",
   "execution_count": 4,
   "metadata": {},
   "outputs": [
    {
     "name": "stdout",
     "output_type": "stream",
     "text": [
      "Hello, Cihat\n"
     ]
    }
   ],
   "source": [
    "def greet(name):\n",
    "    \n",
    "    print(\"Hello, \" + name)\n",
    "\n",
    "\n",
    "name = input()\n",
    "\n",
    "greet(name)"
   ]
  },
  {
   "cell_type": "code",
   "execution_count": 18,
   "metadata": {},
   "outputs": [
    {
     "data": {
      "text/plain": [
       "21"
      ]
     },
     "execution_count": 18,
     "metadata": {},
     "output_type": "execute_result"
    }
   ],
   "source": [
    "def sum(n):\n",
    "    total = 0\n",
    "    for i in range(1, n+1):\n",
    "        total = total + i\n",
    "    return total\n",
    "\n",
    "n = int(input())\n",
    "\n",
    "sum(n)"
   ]
  },
  {
   "cell_type": "code",
   "execution_count": 19,
   "metadata": {},
   "outputs": [
    {
     "name": "stdout",
     "output_type": "stream",
     "text": [
      "cba\n"
     ]
    }
   ],
   "source": [
    "def reverse(s):\n",
    "    return s[::-1]\n",
    "\n",
    "\n",
    "s = input()\n",
    "\n",
    "print(reverse(s))"
   ]
  },
  {
   "cell_type": "code",
   "execution_count": 22,
   "metadata": {},
   "outputs": [
    {
     "name": "stdout",
     "output_type": "stream",
     "text": [
      "This Is A String\n"
     ]
    }
   ],
   "source": [
    "def capitalize(s):\n",
    "    a = s.title()\n",
    "    return a\n",
    "\n",
    "s = input()\n",
    "\n",
    "print(capitalize(s))"
   ]
  },
  {
   "cell_type": "code",
   "execution_count": 23,
   "metadata": {},
   "outputs": [
    {
     "name": "stdout",
     "output_type": "stream",
     "text": [
      "Ciat\n"
     ]
    }
   ],
   "source": [
    "def remove(s, i):\n",
    "    new_str = \"\"\n",
    "    for j in range(len(s)):\n",
    "        if j != i:\n",
    "            new_str = new_str + s[j]\n",
    "    return new_str\n",
    "\n",
    "\n",
    "s = input()\n",
    "i = int(input())\n",
    "\n",
    "print(remove(s, i))"
   ]
  },
  {
   "cell_type": "code",
   "execution_count": 27,
   "metadata": {},
   "outputs": [
    {
     "name": "stdout",
     "output_type": "stream",
     "text": [
      "cow cow cow\n"
     ]
    }
   ],
   "source": [
    "def mulWord(s, n):\n",
    "    result = (s + \" \") * n\n",
    "    return result[:-1]\n",
    "\n",
    "s = input()\n",
    "n = int(input())\n",
    "\n",
    "print(mulWord(s, n))"
   ]
  },
  {
   "cell_type": "code",
   "execution_count": 34,
   "metadata": {},
   "outputs": [
    {
     "name": "stdout",
     "output_type": "stream",
     "text": [
      "0\n"
     ]
    }
   ],
   "source": [
    "def fibo(n):\n",
    "    if n <= 1:\n",
    "        return n\n",
    "    else:\n",
    "        return (fibo(n - 1) + fibo(n - 2))\n",
    "\n",
    "\n",
    "n = int(input())\n",
    "\n",
    "print(fibo(n))"
   ]
  },
  {
   "cell_type": "code",
   "execution_count": 36,
   "metadata": {},
   "outputs": [
    {
     "name": "stdout",
     "output_type": "stream",
     "text": [
      "True\n"
     ]
    }
   ],
   "source": [
    "def isPrime(num):\n",
    "    prime_list = [2, 3]\n",
    "    for i in range(4, num + 1):\n",
    "        is_prime = True\n",
    "        for j in prime_list:\n",
    "            if i % j == 0:\n",
    "                is_prime = False\n",
    "                break\n",
    "        if is_prime:\n",
    "            prime_list.append(i)\n",
    "\n",
    "    if num in prime_list:\n",
    "        return True\n",
    "    else:\n",
    "        return False\n",
    "\n",
    "num = int(input())\n",
    "\n",
    "print(isPrime(num))"
   ]
  },
  {
   "cell_type": "code",
   "execution_count": 43,
   "metadata": {},
   "outputs": [
    {
     "name": "stdout",
     "output_type": "stream",
     "text": [
      "120\n"
     ]
    }
   ],
   "source": [
    "def fact(num):\n",
    "    if num > 1:\n",
    "        return num * fact(num - 1)\n",
    "    else:\n",
    "        return 1\n",
    "\n",
    "num = int(input())\n",
    "\n",
    "print(fact(num))"
   ]
  },
  {
   "cell_type": "code",
   "execution_count": 46,
   "metadata": {},
   "outputs": [
    {
     "name": "stdout",
     "output_type": "stream",
     "text": [
      "True\n"
     ]
    }
   ],
   "source": [
    "def isPalindrome(num):\n",
    "    num_str = str(num)\n",
    "    if num_str == num_str[::-1]:\n",
    "        return True\n",
    "    else:\n",
    "        return False\n",
    "\n",
    "num = input()\n",
    "\n",
    "print(isPalindrome(num))"
   ]
  },
  {
   "cell_type": "code",
   "execution_count": 47,
   "metadata": {},
   "outputs": [
    {
     "name": "stdout",
     "output_type": "stream",
     "text": [
      "122\n"
     ]
    }
   ],
   "source": [
    "def min(arr):\n",
    "    minn = arr[0]\n",
    "    for i in arr:\n",
    "        if i < minn:\n",
    "            minn = i\n",
    "    return minn\n",
    "\n",
    "\n",
    "arr = [123, 432, 543, 122]\n",
    "\n",
    "print(min(arr))"
   ]
  },
  {
   "cell_type": "code",
   "execution_count": 48,
   "metadata": {},
   "outputs": [
    {
     "name": "stdout",
     "output_type": "stream",
     "text": [
      "[5, 6, 6]\n"
     ]
    }
   ],
   "source": [
    "def lens(arr):\n",
    "    lenn = []\n",
    "    for i in arr:\n",
    "        lenn.append(len(i))\n",
    "\n",
    "    return lenn\n",
    "\n",
    "\n",
    "arr = [\"apple\", \"banana\", \"cherry\"]\n",
    "\n",
    "print(lens(arr))"
   ]
  },
  {
   "cell_type": "code",
   "execution_count": 54,
   "metadata": {},
   "outputs": [
    {
     "name": "stdout",
     "output_type": "stream",
     "text": [
      "[1, 4, 2, 5, 3, 6]\n"
     ]
    }
   ],
   "source": [
    "def alternate(a1, a2):\n",
    "    listt = []\n",
    "    for i in range(len(a1)):\n",
    "        listt.append(a1[i])\n",
    "        listt.append(a2[i])\n",
    "    return listt\n",
    "\n",
    "print(alternate(a1, a2))"
   ]
  },
  {
   "cell_type": "code",
   "execution_count": 3,
   "metadata": {},
   "outputs": [
    {
     "name": "stdout",
     "output_type": "stream",
     "text": [
      "[5, 1, 2, 3, 4]\n"
     ]
    }
   ],
   "source": [
    "def rotate(arr):\n",
    "    arr1 = arr[:-1]\n",
    "    len_arr = len(arr)\n",
    "    arr1.insert(0, arr[len_arr - 1])\n",
    "    return arr1\n",
    "\n",
    "arr = [1, 2, 3, 4, 5]\n",
    "\n",
    "print(rotate(arr))"
   ]
  },
  {
   "cell_type": "code",
   "execution_count": 5,
   "metadata": {},
   "outputs": [
    {
     "name": "stdout",
     "output_type": "stream",
     "text": [
      "None\n"
     ]
    }
   ],
   "source": [
    "arr = [1, 2, 3, 4, 5]\n",
    "\n",
    "def rotate(arr):\n",
    "    return (arr[:-1].insert(0, arr[len(arr) - 1]))\n",
    "\n",
    "print(rotate(arr))"
   ]
  },
  {
   "cell_type": "code",
   "execution_count": 3,
   "metadata": {},
   "outputs": [
    {
     "name": "stdout",
     "output_type": "stream",
     "text": [
      "[1, 2, 3]\n"
     ]
    }
   ],
   "source": [
    "def convert(n):\n",
    "    str_n = str(n)\n",
    "    listt = []\n",
    "    for i in str_n:\n",
    "        listt.append(int(i))\n",
    "        \n",
    "    return listt\n",
    "\n",
    "n = 123\n",
    "\n",
    "print(convert(n))"
   ]
  },
  {
   "cell_type": "code",
   "execution_count": 8,
   "metadata": {},
   "outputs": [
    {
     "name": "stdout",
     "output_type": "stream",
     "text": [
      "ehllo\n"
     ]
    }
   ],
   "source": [
    "def sorting(s):\n",
    "    ss = \"\"\n",
    "    sorted_s = sorted(s)\n",
    "    for i in sorted_s:\n",
    "        ss = ss + i\n",
    "    return ss\n",
    "\n",
    "s = 'hello'\n",
    "\n",
    "print(sorting(s))"
   ]
  },
  {
   "cell_type": "code",
   "execution_count": 10,
   "metadata": {},
   "outputs": [
    {
     "name": "stdout",
     "output_type": "stream",
     "text": [
      "2\n"
     ]
    }
   ],
   "source": [
    "def occurMax(a):\n",
    "    for i in a:\n",
    "        if a.count(i) == max(a.count(i) for i in a):\n",
    "            return i\n",
    "\n",
    "a = [4, 2, 1, 2, 5, 2, 1, 6, 34, 1]\n",
    "\n",
    "print(occurMax(a))"
   ]
  },
  {
   "cell_type": "code",
   "execution_count": 8,
   "metadata": {},
   "outputs": [
    {
     "name": "stdout",
     "output_type": "stream",
     "text": [
      "oellh\n"
     ]
    }
   ],
   "source": [
    "def swap_characters(input_string):\n",
    "    if len(input_string) < 2:\n",
    "        return input_string\n",
    "    first = input_string[0]\n",
    "    last = input_string[-1]\n",
    "    middle = input_string[1:-1]\n",
    "    return last + middle + first\n",
    "\n",
    "input_string = \"hello\"\n",
    "\n",
    "print(swap_characters(input_string))"
   ]
  },
  {
   "cell_type": "code",
   "execution_count": 11,
   "metadata": {},
   "outputs": [
    {
     "name": "stdout",
     "output_type": "stream",
     "text": [
      "True\n"
     ]
    }
   ],
   "source": [
    "def animal_match(animal_name: str, guess: str):\n",
    "    if guess == animal_name:\n",
    "        return True\n",
    "    else:\n",
    "        return False\n",
    "\n",
    "animal_name = \"Cat\"\n",
    "guess = \"Cat\"\n",
    "\n",
    "print(animal_match(animal_name, guess))"
   ]
  },
  {
   "cell_type": "code",
   "execution_count": 12,
   "metadata": {},
   "outputs": [
    {
     "name": "stdout",
     "output_type": "stream",
     "text": [
      "20\n"
     ]
    }
   ],
   "source": [
    "def calculate(number_1, number_2, operator):\n",
    "    if operator == '+':\n",
    "        return number_1 + number_2\n",
    "    if operator == '-':\n",
    "        return number_1 - number_2\n",
    "    if operator == '*':\n",
    "        return number_1 * number_2\n",
    "    if operator == '/':\n",
    "        return number_1 / number_2\n",
    "\n",
    "number_1 = 10\n",
    "number_2 = 2\n",
    "operator = '*'\n",
    "\n",
    "print(calculate(number_1, number_2, operator))"
   ]
  },
  {
   "cell_type": "code",
   "execution_count": 20,
   "metadata": {},
   "outputs": [
    {
     "name": "stdout",
     "output_type": "stream",
     "text": [
      "{'ascents': 4, 'descents': 0}\n"
     ]
    }
   ],
   "source": [
    "def track_hike_progress(altitude_list):\n",
    "    ascent = 0\n",
    "    descent = 0\n",
    "    for i in range(len(altitude_list) - 1):\n",
    "        if altitude_list[i + 1] > altitude_list[i]:\n",
    "            ascent = ascent + 1\n",
    "        elif altitude_list[i + 1] < altitude_list[i]:\n",
    "            descent = descent + 1\n",
    "\n",
    "    return {'ascents': ascent, 'descents': descent}\n",
    "\n",
    "altitude_list = [100, 200, 300, 400, 500]\n",
    "\n",
    "print(track_hike_progress(altitude_list))"
   ]
  },
  {
   "cell_type": "code",
   "execution_count": 24,
   "metadata": {},
   "outputs": [
    {
     "name": "stdout",
     "output_type": "stream",
     "text": [
      "la\n"
     ]
    }
   ],
   "source": [
    "def note_name(note):\n",
    "    dictt = {1: 'do', 2: 're', 3: 'mi', 4: 'fal', 5: 'sol', 6: 'la', 7: 'si'}\n",
    "\n",
    "    return dictt[note]\n",
    "\n",
    "note = 6\n",
    "\n",
    "print(note_name(note))"
   ]
  },
  {
   "cell_type": "code",
   "execution_count": 25,
   "metadata": {},
   "outputs": [
    {
     "name": "stdout",
     "output_type": "stream",
     "text": [
      "johnmonday\n"
     ]
    }
   ],
   "source": [
    "def generate_login_string(username, day_of_week):\n",
    "    return username + day_of_week\n",
    "\n",
    "username = 'john'\n",
    "day_of_week = 'monday'\n",
    "\n",
    "print(generate_login_string(username, day_of_week))"
   ]
  },
  {
   "cell_type": "code",
   "execution_count": 27,
   "metadata": {},
   "outputs": [
    {
     "name": "stdout",
     "output_type": "stream",
     "text": [
      "62.137100000000004\n"
     ]
    }
   ],
   "source": [
    "def km_to_miles(km):\n",
    "    mile = km * 0.621371\n",
    "    return mile\n",
    "\n",
    "km = 100\n",
    "\n",
    "print(km_to_miles(km))"
   ]
  },
  {
   "cell_type": "code",
   "execution_count": 28,
   "metadata": {},
   "outputs": [
    {
     "name": "stdout",
     "output_type": "stream",
     "text": [
      "olleh\n"
     ]
    }
   ],
   "source": [
    "def reverse_string(s):\n",
    "    return s[::-1]\n",
    "\n",
    "s = 'hello'\n",
    "\n",
    "print(reverse_string(s))"
   ]
  },
  {
   "cell_type": "code",
   "execution_count": 49,
   "metadata": {},
   "outputs": [
    {
     "name": "stdout",
     "output_type": "stream",
     "text": [
      "5\n"
     ]
    }
   ],
   "source": [
    "#look back that is kinda tricky\n",
    "\n",
    "def longest_consecutive_sequence(nums):\n",
    "    unique_list = []\n",
    "    count = 1\n",
    "    for i in nums:\n",
    "        if i not in unique_list:\n",
    "            unique_list.append(i)\n",
    "        \n",
    "    unique_list_sorted = sorted(unique_list)\n",
    "    for j in range(len(unique_list_sorted)):                                 ###########################################################################\n",
    "        if unique_list_sorted[j] - 1 == unique_list_sorted[j - 1]:\n",
    "            count += 1\n",
    "    return count\n",
    "\n",
    "nums = [-3, -1, 0, 1, 2, 4, 5]\n",
    "\n",
    "print(longest_consecutive_sequence(nums))\n"
   ]
  },
  {
   "cell_type": "code",
   "execution_count": 5,
   "metadata": {},
   "outputs": [
    {
     "name": "stdout",
     "output_type": "stream",
     "text": [
      "[[83, 52, 21]]\n"
     ]
    }
   ],
   "source": [
    "def summerBookSorter(chapters):\n",
    "    for i in chapters:\n",
    "        return [i[::-1]]\n",
    "\n",
    "\n",
    "\n",
    "chapters = [[21, 52, 83]]\n",
    "\n",
    "print(summerBookSorter(chapters))"
   ]
  },
  {
   "cell_type": "code",
   "execution_count": null,
   "metadata": {},
   "outputs": [],
   "source": [
    "chapters = [[21, 52, 83]]\n",
    "\n",
    "for i in chapters:\n",
    "    print(i[::-1])"
   ]
  },
  {
   "cell_type": "code",
   "execution_count": 7,
   "metadata": {},
   "outputs": [
    {
     "name": "stdout",
     "output_type": "stream",
     "text": [
      "Welcome to the Eld World!\n"
     ]
    }
   ],
   "source": [
    "eld = \"Welcome to the Eld World\"\n",
    "\n",
    "print(eld + \"!\")"
   ]
  },
  {
   "cell_type": "code",
   "execution_count": 13,
   "metadata": {},
   "outputs": [
    {
     "name": "stdout",
     "output_type": "stream",
     "text": [
      "10\n"
     ]
    }
   ],
   "source": [
    "def count_vowels(s):\n",
    "    vowel = ['a', 'e', 'i', 'o', 'u']\n",
    "    count = 0\n",
    "    s_lower = s.lower()\n",
    "    for i in s_lower:\n",
    "        if i in vowel:\n",
    "            count = count + 1\n",
    "    return count\n",
    "\n",
    "s = \"AEIOUaeiou\"\n",
    "\n",
    "print(count_vowels(s))"
   ]
  },
  {
   "cell_type": "code",
   "execution_count": 20,
   "metadata": {},
   "outputs": [
    {
     "name": "stdout",
     "output_type": "stream",
     "text": [
      "87.8\n"
     ]
    }
   ],
   "source": [
    "#Not done weird conversion required\n",
    "\n",
    "def celsius_to_fahrenheit(celsius):\n",
    "    F = celsius * 9/5 + 32\n",
    "    return F\n",
    "\n",
    "celsius = 31\n",
    "\n",
    "print(celsius_to_fahrenheit(celsius))"
   ]
  },
  {
   "cell_type": "code",
   "execution_count": 4,
   "metadata": {},
   "outputs": [
    {
     "name": "stdout",
     "output_type": "stream",
     "text": [
      "1048.576\n"
     ]
    }
   ],
   "source": [
    "def calc_thickness(n):\n",
    "    initial_thickness = 0.0005\n",
    "    thickness = pow(2, n) * initial_thickness\n",
    "    return thickness\n",
    "\n",
    "n = 21\n",
    "\n",
    "print(calc_thickness(n))\n"
   ]
  },
  {
   "cell_type": "code",
   "execution_count": 22,
   "metadata": {},
   "outputs": [
    {
     "name": "stdout",
     "output_type": "stream",
     "text": [
      "['*', '***', '*****', '*******']\n"
     ]
    }
   ],
   "source": [
    "#later\n",
    "\n",
    "def beach_tower(levels):\n",
    "    str_arr = []\n",
    "    if levels > 1:\n",
    "        for i in range(1,levels + 1, 2):\n",
    "            str_arr.append(i * '*')\n",
    "    if levels == 1:\n",
    "        str_arr.append('*')\n",
    "        return str_arr\n",
    "    \n",
    "    return str_arr\n",
    "\n",
    "\n",
    "levels = 7\n",
    "\n",
    "print(beach_tower(levels))"
   ]
  },
  {
   "cell_type": "code",
   "execution_count": 24,
   "metadata": {},
   "outputs": [
    {
     "name": "stdout",
     "output_type": "stream",
     "text": [
      "440\n"
     ]
    }
   ],
   "source": [
    "def get_total_distance(laps):\n",
    "    total = 400 * laps + 40\n",
    "    if laps >= 1:\n",
    "        return total\n",
    "    elif laps == 0:\n",
    "        return 0\n",
    "\n",
    "laps = 1\n",
    "\n",
    "print(get_total_distance(laps))"
   ]
  },
  {
   "cell_type": "code",
   "execution_count": 26,
   "metadata": {},
   "outputs": [
    {
     "name": "stdout",
     "output_type": "stream",
     "text": [
      "3\n"
     ]
    }
   ],
   "source": [
    "def gcd(x, y):\n",
    "    if x > y:\n",
    "        smaller = y\n",
    "    else:\n",
    "        smaller = x\n",
    "    for i in range(1, smaller + 1):\n",
    "        if ((x % i == 0) and (y % i == 0)):\n",
    "            gcd = i\n",
    "\n",
    "    return gcd\n",
    "\n",
    "x = 999999999\n",
    "y = 45678\n",
    "\n",
    "print(gcd(x, y))"
   ]
  },
  {
   "cell_type": "code",
   "execution_count": 8,
   "metadata": {},
   "outputs": [
    {
     "name": "stdout",
     "output_type": "stream",
     "text": [
      "True\n"
     ]
    }
   ],
   "source": [
    "# if letter contained in every word than yes version\n",
    "def is_forbidden_letter1(letter1, list_words1):\n",
    "    letter_lower1 = letter1.lower()\n",
    "    result1 = all(letter_lower1 in word for word in list_words1)\n",
    "\n",
    "    return result1\n",
    "\n",
    "list_words1 = ['apple', 'banane', 'pear']\n",
    "\n",
    "letter1 = 'e'\n",
    "\n",
    "print(is_forbidden_letter1(letter1, list_words1))"
   ]
  },
  {
   "cell_type": "code",
   "execution_count": 11,
   "metadata": {},
   "outputs": [
    {
     "name": "stdout",
     "output_type": "stream",
     "text": [
      "True\n"
     ]
    }
   ],
   "source": [
    "# if any letter contains the given letter theeen this\n",
    "\n",
    "def is_forbidden_letter(letter, list_words):\n",
    "    letter_lower = letter.lower()\n",
    "    for i in list_words:\n",
    "        if letter_lower in i:\n",
    "            return True\n",
    "    return False\n",
    "\n",
    "\n",
    "\n",
    "list_words = ['apple', 'banane', 'pear']\n",
    "\n",
    "letter = 'p'\n",
    "\n",
    "print(is_forbidden_letter(letter, list_words))"
   ]
  },
  {
   "cell_type": "code",
   "execution_count": 26,
   "metadata": {},
   "outputs": [
    {
     "name": "stdout",
     "output_type": "stream",
     "text": [
      "[1, 2, 3]\n",
      "ABC\n"
     ]
    }
   ],
   "source": [
    "# randomly creating desired output in a given scenarios\n",
    "\n",
    "import random\n",
    "\n",
    "rand_list = [[1, 2, 3], [26, 25, 24], [13, 1, 19, 8], [20, 8, 9, 19], [9, 19], [1, 2, 3, 4, 5, 6, 7, 8, 9, 10], [16, 18, 15, 7, 18, 1, 13], [3, 15, 4, 5]]\n",
    "\n",
    "choose = random.choice(rand_list)\n",
    "\n",
    "def decode_teaser(decimal_numbers):\n",
    "    dictt = {1 : 'A', 2 : 'B', 3 : 'C', 4 : 'D', 5 : 'E', 6 : 'F', 7 : 'G', 8 : 'H', 9 : 'I', 10 : 'J', 11 : 'K', 12 : 'L', 13 : 'M', 14 : 'N', 15 : 'O', 16 : 'P', 17 : 'Q', 18 : 'R', 19 : 'S', 20 : 'T', 21 : 'U', 22 : 'V', 23 : 'W', 24 : 'X', 25 : 'Y', 26 : 'Z'}\n",
    "    return ''.join([dictt[i] for i in choose])\n",
    "\n",
    "decimal_numbers = [16, 18, 15, 7, 18, 1, 13]\n",
    "\n",
    "print(choose)\n",
    "print(decode_teaser(decimal_numbers))"
   ]
  },
  {
   "cell_type": "code",
   "execution_count": 66,
   "metadata": {},
   "outputs": [
    {
     "name": "stdout",
     "output_type": "stream",
     "text": [
      "['6', '2', '4', '0']\n"
     ]
    }
   ],
   "source": [
    "def escape(hints, digits):\n",
    "    listt = []\n",
    "    index = []\n",
    "    password = []\n",
    "    for i in hints:\n",
    "        if i.contains('not'): ####Buraya bakıp birşey eklemek lazım yada approach değişecek\n",
    "            listt.append(i[0])\n",
    "            index.append(i[len(i) - 1])\n",
    "\n",
    "    missing = set(digits) - set(listt)\n",
    "    listt.append(list(missing)[0])\n",
    "\n",
    "    for i in range(len(digits)):\n",
    "        if str(i) not in index:\n",
    "            missing_index = i\n",
    "\n",
    "    index.append(f'{missing_index}')\n",
    "\n",
    "    for i in index:\n",
    "        password.append(listt[int(i)])\n",
    "\n",
    "    return password\n",
    "\n",
    "\n",
    "hints = [\"0 is in position 3\", \"2 is not in position 1\", \"4 is in position 2\"]\n",
    "\n",
    "digits = ['0','2','4','6']\n",
    "\n",
    "print(escape(hints, digits))"
   ]
  },
  {
   "cell_type": "code",
   "execution_count": 1,
   "metadata": {},
   "outputs": [
    {
     "name": "stdout",
     "output_type": "stream",
     "text": [
      "621\n"
     ]
    }
   ],
   "source": [
    "def binary_to_decimal(b):\n",
    "    decimal = 0\n",
    "    for i in range(len(b)):\n",
    "        decimal += int(b[i]) * 2 ** (len(b) - 1 - i)\n",
    "    return decimal\n",
    "\n",
    "\n",
    "b = '1001101101'\n",
    "\n",
    "print(binary_to_decimal(b))"
   ]
  },
  {
   "cell_type": "code",
   "execution_count": 9,
   "metadata": {},
   "outputs": [
    {
     "name": "stdout",
     "output_type": "stream",
     "text": [
      "V\n"
     ]
    }
   ],
   "source": [
    "def single_occurrence(txt):\n",
    "    for i in txt:\n",
    "        if txt.count(i) == 1:\n",
    "            return i\n",
    "    return None\n",
    "\n",
    "\n",
    "txt = 'AAAAVNNNNSS'\n",
    "\n",
    "print(single_occurrence(txt))"
   ]
  },
  {
   "cell_type": "code",
   "execution_count": 13,
   "metadata": {},
   "outputs": [
    {
     "name": "stdout",
     "output_type": "stream",
     "text": [
      "493\n"
     ]
    }
   ],
   "source": [
    "def programmers(a1, a2, a3):\n",
    "    difference = max(a1, a2, a3) - min(a1, a2, a3)\n",
    "    return difference\n",
    "\n",
    "\n",
    "a1, a2, a3 = 147, 33, 526\n",
    "\n",
    "print(programmers(a1, a2, a3))"
   ]
  },
  {
   "cell_type": "code",
   "execution_count": 17,
   "metadata": {},
   "outputs": [
    {
     "name": "stdout",
     "output_type": "stream",
     "text": [
      "[1, 5, 7, 35, 67, 335, 469, 2345]\n"
     ]
    }
   ],
   "source": [
    "def get_factors(n):\n",
    "    listt = []\n",
    "    for i in range(1, n + 1):\n",
    "        if n % i == 0:\n",
    "            listt.append(i)\n",
    "    return listt\n",
    "\n",
    "n = 2345\n",
    "\n",
    "print(list(get_factors(n)))"
   ]
  },
  {
   "cell_type": "code",
   "execution_count": 19,
   "metadata": {},
   "outputs": [
    {
     "name": "stdout",
     "output_type": "stream",
     "text": [
      "True\n"
     ]
    }
   ],
   "source": [
    "def is_triangle(a, b, c):\n",
    "    if a + b > c and a + c > b and b + c > a:\n",
    "        return True\n",
    "    else:\n",
    "        return False\n",
    "\n",
    "\n",
    "a, b, c = 5, 3, 4\n",
    "\n",
    "print(is_triangle(a, b, c))"
   ]
  },
  {
   "cell_type": "code",
   "execution_count": 26,
   "metadata": {},
   "outputs": [
    {
     "name": "stdout",
     "output_type": "stream",
     "text": [
      "31.5\n"
     ]
    }
   ],
   "source": [
    "def triangle_area(base, height):\n",
    "    area = (base * height) / 2\n",
    "    if area.is_integer():\n",
    "        return int(area)\n",
    "    else:\n",
    "        return area\n",
    "\n",
    "\n",
    "base, height = 7, 9\n",
    "\n",
    "print(triangle_area(base, height))"
   ]
  },
  {
   "cell_type": "code",
   "execution_count": 5,
   "metadata": {},
   "outputs": [
    {
     "name": "stdout",
     "output_type": "stream",
     "text": [
      "304000\n"
     ]
    }
   ],
   "source": [
    "def estimate_house_price(attributes):\n",
    "    total = 100000\n",
    "    for i in attributes.keys():\n",
    "        if i == \"bedrooms\":\n",
    "            total = total + attributes[i] * 5000\n",
    "        if i == \"bathrooms\":\n",
    "            total = total + attributes[i] * 3000\n",
    "        if i == \"square_feet\":\n",
    "            total = total + attributes[i] * 50\n",
    "        if i == \"garage\" and attributes[i] == True:\n",
    "            total = total + 10000\n",
    "        if i == \"neighborhood\":\n",
    "            if attributes[i] == \"Rural\":\n",
    "                total = total + 10000\n",
    "            if attributes[i] == \"Suburban\":\n",
    "                total = total + 20000\n",
    "            if attributes[i] == \"Urban\":\n",
    "                total = total + 15000\n",
    "    return total\n",
    "\n",
    "\n",
    "attributes = {\"bedrooms\": 5, \"bathrooms\": 3, \"square_feet\": 2800, \"neighborhood\": \"Suburban\", \"garage\": True}\n",
    "\n",
    "print(estimate_house_price(attributes))"
   ]
  },
  {
   "cell_type": "code",
   "execution_count": 8,
   "metadata": {},
   "outputs": [
    {
     "name": "stdout",
     "output_type": "stream",
     "text": [
      "8\n"
     ]
    }
   ],
   "source": [
    "#turn back\n",
    "\n",
    "def x(input_list):\n",
    "    total = 0\n",
    "    if all(input_list[i] < 0 for i in input_list):\n",
    "        return max(input_list)\n",
    "    for i in range(len(input_list)):\n",
    "        if len(input_list) == 0:\n",
    "            return 0\n",
    "        elif input_list[i] > 0:\n",
    "            total += input_list[i]\n",
    "    return total\n",
    "\n",
    "input_list = [1, 2, -1, 2, -1, 3]\n",
    "\n",
    "print(x(input_list))"
   ]
  },
  {
   "cell_type": "code",
   "execution_count": 7,
   "metadata": {},
   "outputs": [
    {
     "name": "stdout",
     "output_type": "stream",
     "text": [
      "I love gnimmargorp\n"
     ]
    }
   ],
   "source": [
    "def spicewood_shade(sentence):\n",
    "    a = sentence.split()\n",
    "    b = []\n",
    "    for i in a:\n",
    "        if \"e\" in i:\n",
    "            b.append(i)\n",
    "        else:\n",
    "            b.append(i[::-1])\n",
    "\n",
    "    return \" \".join(b)\n",
    "\n",
    "sentence = \"I love programming\"\n",
    "\n",
    "print(spicewood_shade(sentence))"
   ]
  },
  {
   "cell_type": "code",
   "execution_count": 20,
   "metadata": {},
   "outputs": [
    {
     "name": "stdout",
     "output_type": "stream",
     "text": [
      "144\n"
     ]
    }
   ],
   "source": [
    "def first_fibonacci_in_range(start, end):\n",
    "    fibonacci = [0, 1]\n",
    "    listt = []\n",
    "    for i in range(2, end + 1):\n",
    "        fibonacci.append(fibonacci[i - 1] + fibonacci[i - 2])\n",
    "    \n",
    "    for i in range(start, end + 1):\n",
    "        if i in fibonacci:\n",
    "            listt.append(i)\n",
    "        \n",
    "    sorted_listt = sorted(listt)\n",
    "\n",
    "    return min(sorted_listt)        \n",
    "\n",
    "\n",
    "\n",
    "start = 144\n",
    "end = 233\n",
    "\n",
    "print(first_fibonacci_in_range(start, end))"
   ]
  },
  {
   "cell_type": "code",
   "execution_count": 49,
   "metadata": {},
   "outputs": [
    {
     "name": "stdout",
     "output_type": "stream",
     "text": [
      "True\n"
     ]
    }
   ],
   "source": [
    "def title_ends_with(book_title, ending):\n",
    "    book_title_lower = book_title.lower()\n",
    "    a = book_title_lower.split()\n",
    "    if len(a) == 1:\n",
    "        if ending.lower() == a[-1]:\n",
    "            return True\n",
    "    elif ending.lower() in a[-1]:\n",
    "        return True\n",
    "    return False\n",
    "\n",
    "book_title = \"The Great Gatsby\"\n",
    "ending = \"Gatsby\"\n",
    "\n",
    "print(title_ends_with(book_title, ending))"
   ]
  },
  {
   "cell_type": "code",
   "execution_count": 55,
   "metadata": {},
   "outputs": [
    {
     "name": "stdout",
     "output_type": "stream",
     "text": [
      "0.01\n"
     ]
    }
   ],
   "source": [
    "def to_usd(jpy):\n",
    "    usd = jpy * 0.0069\n",
    "    return round(usd, 2)\n",
    "\n",
    "jpy = 1\n",
    "\n",
    "print(to_usd(jpy))"
   ]
  },
  {
   "cell_type": "code",
   "execution_count": 71,
   "metadata": {},
   "outputs": [
    {
     "name": "stdout",
     "output_type": "stream",
     "text": [
      "False\n"
     ]
    }
   ],
   "source": [
    "def symmetrical_number(num):\n",
    "    str_num = str(num)\n",
    "    if str_num == str_num[::-1]:\n",
    "        return True\n",
    "    return False\n",
    "\n",
    "num = 1245321\n",
    "\n",
    "print(symmetrical_number(num))"
   ]
  },
  {
   "cell_type": "code",
   "execution_count": 81,
   "metadata": {},
   "outputs": [
    {
     "name": "stdout",
     "output_type": "stream",
     "text": [
      "[4, 16, 36, 64, 100, 144, 196, 256, 324, 400, 484, 576, 676, 784, 900, 1024, 1156, 1296, 1444, 1600, 1764, 1936, 2116, 2304, 2500]\n"
     ]
    }
   ],
   "source": [
    "def find_special_numbers(n):\n",
    "    listt = []\n",
    "    for i in range(2, 2 * n + 1, 2):\n",
    "        listt.append(i * i)\n",
    "\n",
    "    return listt\n",
    "\n",
    "n = 25\n",
    "\n",
    "print(find_special_numbers(n))"
   ]
  },
  {
   "cell_type": "code",
   "execution_count": 28,
   "metadata": {},
   "outputs": [
    {
     "name": "stdout",
     "output_type": "stream",
     "text": [
      "-3\n"
     ]
    }
   ],
   "source": [
    "def x(input_number, operation, convert_to):\n",
    "    holder = 0\n",
    "    operation_list = operation.split()\n",
    "    if operation_list[0] == \"add\":\n",
    "        holder = int(input_number + int(operation_list[1]))\n",
    "    if operation_list[0] == \"substract\":\n",
    "        holder = int(input_number - int(operation_list[1]))\n",
    "    if operation_list[0] == \"multiply\":\n",
    "        holder = int(input_number * int(operation_list[1]))\n",
    "    if operation_list[0] == \"divide\":\n",
    "        holder = int(input_number / int(operation_list[1]))\n",
    "\n",
    "    if convert_to == \"decimal\":\n",
    "        return holder\n",
    "    if convert_to == \"binary\":\n",
    "        binary_str = bin(holder)\n",
    "        return binary_str[2:]\n",
    "        \n",
    "\n",
    "input_number = 1\n",
    "operation = \"substract 4\"\n",
    "convert_to = \"decimal\"\n",
    "\n",
    "print(x(input_number, operation, convert_to))\n"
   ]
  },
  {
   "cell_type": "code",
   "execution_count": 18,
   "metadata": {},
   "outputs": [
    {
     "name": "stdout",
     "output_type": "stream",
     "text": [
      "True\n"
     ]
    }
   ],
   "source": [
    "def is_dog(s):\n",
    "    if \"dog\" in s.lower():\n",
    "        return True\n",
    "    return False\n",
    "\n",
    "\n",
    "s = \"I have a dog named Max\"\n",
    "\n",
    "print(is_dog(s))"
   ]
  },
  {
   "cell_type": "code",
   "execution_count": 23,
   "metadata": {},
   "outputs": [
    {
     "name": "stdout",
     "output_type": "stream",
     "text": [
      "['100', '100', '100', '100', '100', '100', '100', '100', '100', '100', '100', '100', '100', '100', '100', '100', '100', '100', '100', '100']\n"
     ]
    }
   ],
   "source": [
    "def cut_wood(wood_length_cm, cuts):\n",
    "    pieces = []\n",
    "    if cuts == 0:\n",
    "        pieces.append(bin(wood_length_cm)[2:])\n",
    "        return pieces\n",
    "    elif cuts > 0:\n",
    "        each_unit = int((wood_length_cm - (cuts + 1)) / (cuts + 1))\n",
    "        for i in range(cuts + 1):\n",
    "            pieces.append(bin(each_unit)[2:])\n",
    "        return pieces\n",
    "\n",
    "wood_length_cm = 100\n",
    "cuts = 19\n",
    "\n",
    "print(cut_wood(wood_length_cm, cuts))"
   ]
  },
  {
   "cell_type": "code",
   "execution_count": 38,
   "metadata": {},
   "outputs": [
    {
     "name": "stdout",
     "output_type": "stream",
     "text": [
      "Packing list for Bob:\n",
      "- Clothes for 8 days\n",
      "- Toiletries\n",
      "- Extra shoes\n",
      "\n"
     ]
    }
   ],
   "source": [
    "def create_packing_list(traveler_name, days_per_location):\n",
    "    total_days = sum(days_per_location)\n",
    "    total = []\n",
    "    first = f\"Packing list for {traveler_name}:\\n\"\n",
    "    second = f\"- Clothes for {total_days} days\\n\"\n",
    "    third = \"- Toiletries\"\n",
    "    if total_days < 7:\n",
    "        total = first + second + third\n",
    "    elif total_days > 10:\n",
    "        fourth = \"- Extra shoes\"\n",
    "        fifth = \"- Laundry soap\"\n",
    "        total = first + second + third + \"\\n\" + fourth + \"\\n\" + fifth\n",
    "    elif total_days > 7:\n",
    "        fourth = \"- Extra shoes\\n\"\n",
    "        total = first + second + third + \"\\n\" + fourth\n",
    "\n",
    "    return total\n",
    "\n",
    "traveler_name = \"Bob\"\n",
    "days_per_location = [3,5]\n",
    "\n",
    "print(create_packing_list(traveler_name, days_per_location))\n",
    "    "
   ]
  },
  {
   "cell_type": "code",
   "execution_count": 43,
   "metadata": {},
   "outputs": [
    {
     "name": "stdout",
     "output_type": "stream",
     "text": [
      "55\n"
     ]
    }
   ],
   "source": [
    "def codingProblems(a1, a2):\n",
    "    total = a1 + a2\n",
    "    if total % 2 == 0:\n",
    "        return int((total / 2) * 5)\n",
    "    else:\n",
    "        return int((total - 1) / 2) * 5\n",
    "\n",
    "a1 = 10\n",
    "a2 = 12\n",
    "\n",
    "print(codingProblems(a1, a2))"
   ]
  },
  {
   "cell_type": "code",
   "execution_count": 97,
   "metadata": {},
   "outputs": [
    {
     "name": "stdout",
     "output_type": "stream",
     "text": [
      "status = Breeze\n"
     ]
    }
   ],
   "source": [
    "wind = int(input()) # Don't change this line\n",
    "status = \"unset\"\n",
    "\n",
    "if wind < 8:\n",
    "    status = \"Calm\"\n",
    "elif wind >= 8 and wind <= 31:\n",
    "    status = \"Breeze\"\n",
    "elif wind >= 32 and wind <= 63:\n",
    "    status = \"Gale\"\n",
    "else:\n",
    "    status = \"Storm\"\n",
    "\n",
    "print(f\"status = {status}\")"
   ]
  },
  {
   "cell_type": "code",
   "execution_count": 102,
   "metadata": {},
   "outputs": [
    {
     "name": "stdout",
     "output_type": "stream",
     "text": [
      "46\n"
     ]
    }
   ],
   "source": [
    "n1 = int(input()) # Don't change this line\n",
    "n2 = int(input()) # Don't change this line\n",
    "op = input() # Don't change this line\n",
    "result = 0\n",
    "\n",
    "if op == \"+\":\n",
    "    result = n1 + n2\n",
    "elif op == \"-\":\n",
    "    result = n1 - n2\n",
    "elif op == \"*\":\n",
    "    result = n1 * n2\n",
    "elif op == \"/\":\n",
    "    result = n1 / n2\n",
    "    \n",
    "print(result)"
   ]
  },
  {
   "cell_type": "code",
   "execution_count": 103,
   "metadata": {},
   "outputs": [
    {
     "name": "stdout",
     "output_type": "stream",
     "text": [
      "Hello, Cihat\n"
     ]
    }
   ],
   "source": [
    "var = input()\n",
    "\n",
    "print(f\"Hello, {var}\")"
   ]
  },
  {
   "cell_type": "code",
   "execution_count": 112,
   "metadata": {},
   "outputs": [
    {
     "name": "stdout",
     "output_type": "stream",
     "text": [
      "49.0\n"
     ]
    }
   ],
   "source": [
    "var1 = float(input())\n",
    "var2 = float(input())\n",
    "\n",
    "result = var1 * var2\n",
    "\n",
    "print(result)"
   ]
  },
  {
   "cell_type": "code",
   "execution_count": 114,
   "metadata": {},
   "outputs": [
    {
     "name": "stdout",
     "output_type": "stream",
     "text": [
      "95 years till 120\n"
     ]
    }
   ],
   "source": [
    "age = int(input())\n",
    "\n",
    "age_left = 120 - age\n",
    "\n",
    "print(f\"{age_left} years till 120\")"
   ]
  },
  {
   "cell_type": "code",
   "execution_count": 116,
   "metadata": {},
   "outputs": [
    {
     "name": "stdout",
     "output_type": "stream",
     "text": [
      "{'name': 'John Doe', 'age': 25, 'city': 'Los Angeles', 'email': 'johndoe@example.com'}\n"
     ]
    }
   ],
   "source": [
    "person = {\n",
    "    \"name\": \"John Doe\",\n",
    "    \"age\": 25,\n",
    "    \"city\": \"Los Angeles\",\n",
    "    \"email\": \"johndoe@example.com\"\n",
    "}\n",
    "\n",
    "print(person)"
   ]
  },
  {
   "cell_type": "code",
   "execution_count": null,
   "metadata": {},
   "outputs": [],
   "source": []
  }
 ],
 "metadata": {
  "kernelspec": {
   "display_name": "Python 3",
   "language": "python",
   "name": "python3"
  },
  "language_info": {
   "codemirror_mode": {
    "name": "ipython",
    "version": 3
   },
   "file_extension": ".py",
   "mimetype": "text/x-python",
   "name": "python",
   "nbconvert_exporter": "python",
   "pygments_lexer": "ipython3",
   "version": "3.11.5"
  }
 },
 "nbformat": 4,
 "nbformat_minor": 2
}
